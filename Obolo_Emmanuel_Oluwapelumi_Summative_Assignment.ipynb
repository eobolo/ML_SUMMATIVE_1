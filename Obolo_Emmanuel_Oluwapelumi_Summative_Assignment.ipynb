{
 "cells": [
  {
   "cell_type": "markdown",
   "metadata": {
    "id": "EAt-K2qgcIou"
   },
   "source": [
    "# Optimization Using Gradient Descent: Linear Regression"
   ]
  },
  {
   "cell_type": "markdown",
   "metadata": {
    "id": "FZYK-0rin5x7"
   },
   "source": [
    "In this assignment, you will build a simple linear regression model to predict sales based on TV marketing expenses. You will investigate three different approaches to this problem. You will use `NumPy` and `Scikit-Learn` linear regression models, as well as construct and optimize the sum of squares cost function with gradient descent from scratch.\n",
    "\n",
    "Further you will add additional cells to compare Linear regression and atleast 1 other algorithm"
   ]
  },
  {
   "cell_type": "markdown",
   "metadata": {
    "id": "Ywl11dna6rPV"
   },
   "source": [
    "# Table of Contents\n",
    "\n",
    "- [ 1 - Open the Dataset and State the Problem]\n",
    "  - [ Exercise 1]\n",
    "- [ 2 - Linear Regression in Python with `NumPy` and `Scikit-Learn`]\n",
    "  - [ 2.1 - Linear Regression with `NumPy`]\n",
    "    - [ Exercise 2]\n",
    "  - [ 2.2 - Linear Regression with `Scikit-Learn`]\n",
    "    - [ Exercise 3]\n",
    "    - [ Exercise 4]\n",
    "- [ 3 - Linear Regression using Gradient Descent]\n",
    "  - [ Exercise 5]\n",
    "  - [ Exercise 6]"
   ]
  },
  {
   "cell_type": "markdown",
   "metadata": {
    "id": "QMoxIfha6rPV"
   },
   "source": [
    "## Packages\n",
    "\n",
    "Load the required packages:"
   ]
  },
  {
   "cell_type": "code",
   "execution_count": 101,
   "metadata": {
    "colab": {
     "base_uri": "https://localhost:8080/"
    },
    "id": "XJIxmBk7edFn",
    "outputId": "1c70e1f7-c5d3-41fa-b297-dd3295a495b8"
   },
   "outputs": [
    {
     "name": "stdout",
     "output_type": "stream",
     "text": [
      "Drive already mounted at /content/drive; to attempt to forcibly remount, call drive.mount(\"/content/drive\", force_remount=True).\n"
     ]
    }
   ],
   "source": [
    "from google.colab import drive\n",
    "drive.mount(\"/content/drive\")"
   ]
  },
  {
   "cell_type": "code",
   "execution_count": 102,
   "metadata": {
    "id": "jaaw4ei_6rPW",
    "tags": [
     "graded"
    ]
   },
   "outputs": [],
   "source": [
    "import sys\n",
    "import numpy as np\n",
    "import pandas as pd\n",
    "import matplotlib.pyplot as plt\n",
    "import seaborn as sns\n",
    "from sklearn.linear_model import LinearRegression\n",
    "from sklearn.model_selection import train_test_split\n",
    "from sklearn.metrics import mean_squared_error\n",
    "from sklearn.metrics import root_mean_squared_error\n",
    "from sklearn.ensemble import RandomForestRegressor\n",
    "from sklearn.tree import DecisionTreeRegressor"
   ]
  },
  {
   "cell_type": "markdown",
   "metadata": {
    "id": "_jIkxZQI6rPX"
   },
   "source": [
    "Import the unit tests defined for this notebook."
   ]
  },
  {
   "cell_type": "code",
   "execution_count": 103,
   "metadata": {
    "id": "jngKNK_2hNsd"
   },
   "outputs": [],
   "source": [
    "# create a file path to our test file\n",
    "# since the w2_unittest is inside my mounted drive\n",
    "file_path = \"/content/drive/MyDrive/ML_SUMMATIVE/\"\n",
    "# adding the file directory to the system path\n",
    "sys.path.append(file_path)"
   ]
  },
  {
   "cell_type": "code",
   "execution_count": null,
   "metadata": {
    "id": "2BA4_EOR6rPY"
   },
   "outputs": [],
   "source": [
    "import w2_unittest"
   ]
  },
  {
   "cell_type": "markdown",
   "metadata": {
    "id": "obKIZJlp6rPY"
   },
   "source": [
    "<a name='1'></a>\n",
    "## 1 - Open the Dataset and State the Problem"
   ]
  },
  {
   "cell_type": "markdown",
   "metadata": {
    "id": "68gkhFLw6rPY"
   },
   "source": [
    "In this lab, you will build a linear regression model for a simple Kaggle dataset, saved in a file `data/tvmarketing.csv`. The dataset has only two fields: TV marketing expenses (`TV`) and sales amount (`Sales`)."
   ]
  },
  {
   "cell_type": "markdown",
   "metadata": {
    "id": "htARQfsB6rPZ"
   },
   "source": [
    "<a name='ex01'></a>\n",
    "### Exercise 1\n",
    "\n",
    "Use `pandas` function `pd.read_csv` to open the .csv file the from the `path`."
   ]
  },
  {
   "cell_type": "markdown",
   "metadata": {
    "id": "oQooVT7tkXDP"
   },
   "source": []
  },
  {
   "cell_type": "markdown",
   "metadata": {
    "id": "hYa0a49alkXW"
   },
   "source": [
    "### Problem Statement\n",
    "\n",
    "**The problem I am addressing in this analysis is to predict sales based on TV marketing expenses.**\n",
    "\n",
    "I aim to build models that can take the TV marketing budget as input and accurately estimate the corresponding sales amount as output.\n",
    "\n",
    "I will explore different techiques like;\n",
    "\n",
    "* **Linear Regression:** Assuming a linear relationship between TV marketing expenses and sales.\n",
    "* **Decision Trees:** To capture potential non-linear relationships and feature interactions.\n",
    "* **Random Forests:** As an ensemble method to improve prediction accuracy and robustness.\n",
    "\n",
    "By comparing the performance of these models, I aim to identify the most effective approach for predicting sales based on TV marketing expenses.\n",
    "\n",
    "\n",
    "### Importance of Stating the Problem\n",
    "\n",
    "Clearly defining the problem is crucial for several reasons:\n",
    "\n",
    "1. **Clarity and Focus:** A well-defined problem statement provides clarity and focus to the analysis, guiding the subsequent steps and choices I make in data preprocessing, model selection, and evaluation.\n",
    "\n",
    "2. **Model Selection:** Understanding the problem helps me choose the appropriate model and evaluation metrics.\n",
    "\n",
    "3. **Communication:** A clear problem statement facilitates effective communication of the purpose and findings of the analysis to others. It ensures that everyone involved understands the goals and outcomes of the project.\n",
    "\n",
    "\n",
    "By explicitly stating the problem, I establish a clear direction for my analysis and lay the foundation for a successful outcome."
   ]
  },
  {
   "cell_type": "code",
   "execution_count": 105,
   "metadata": {
    "id": "oIpEVfK56rPZ",
    "tags": [
     "graded"
    ]
   },
   "outputs": [],
   "source": [
    "# get the csv file from the drive we mounted\n",
    "# doing a string f formater with the path variable and the parent path.\n",
    "path = \"Data/tvmarketing.csv\"\n",
    "adv = pd.read_csv(f'/content/drive/MyDrive/ML_SUMMATIVE/{path}')"
   ]
  },
  {
   "cell_type": "code",
   "execution_count": 106,
   "metadata": {
    "colab": {
     "base_uri": "https://localhost:8080/",
     "height": 206
    },
    "id": "twBM6N2s6rPZ",
    "outputId": "0e9e190c-1f37-40cb-ea9f-0b1a80fb017e",
    "tags": [
     "graded"
    ]
   },
   "outputs": [
    {
     "data": {
      "application/vnd.google.colaboratory.intrinsic+json": {
       "summary": "{\n  \"name\": \"adv\",\n  \"rows\": 200,\n  \"fields\": [\n    {\n      \"column\": \"TV\",\n      \"properties\": {\n        \"dtype\": \"number\",\n        \"std\": 85.8542363149081,\n        \"min\": 0.7,\n        \"max\": 296.4,\n        \"num_unique_values\": 190,\n        \"samples\": [\n          287.6,\n          286.0,\n          78.2\n        ],\n        \"semantic_type\": \"\",\n        \"description\": \"\"\n      }\n    },\n    {\n      \"column\": \"Sales\",\n      \"properties\": {\n        \"dtype\": \"number\",\n        \"std\": 5.217456565710477,\n        \"min\": 1.6,\n        \"max\": 27.0,\n        \"num_unique_values\": 121,\n        \"samples\": [\n          11.4,\n          21.2,\n          12.9\n        ],\n        \"semantic_type\": \"\",\n        \"description\": \"\"\n      }\n    }\n  ]\n}",
       "type": "dataframe",
       "variable_name": "adv"
      },
      "text/html": [
       "\n",
       "  <div id=\"df-f8748b00-c491-4f71-87ae-8e9bb4993dba\" class=\"colab-df-container\">\n",
       "    <div>\n",
       "<style scoped>\n",
       "    .dataframe tbody tr th:only-of-type {\n",
       "        vertical-align: middle;\n",
       "    }\n",
       "\n",
       "    .dataframe tbody tr th {\n",
       "        vertical-align: top;\n",
       "    }\n",
       "\n",
       "    .dataframe thead th {\n",
       "        text-align: right;\n",
       "    }\n",
       "</style>\n",
       "<table border=\"1\" class=\"dataframe\">\n",
       "  <thead>\n",
       "    <tr style=\"text-align: right;\">\n",
       "      <th></th>\n",
       "      <th>TV</th>\n",
       "      <th>Sales</th>\n",
       "    </tr>\n",
       "  </thead>\n",
       "  <tbody>\n",
       "    <tr>\n",
       "      <th>0</th>\n",
       "      <td>230.1</td>\n",
       "      <td>22.1</td>\n",
       "    </tr>\n",
       "    <tr>\n",
       "      <th>1</th>\n",
       "      <td>44.5</td>\n",
       "      <td>10.4</td>\n",
       "    </tr>\n",
       "    <tr>\n",
       "      <th>2</th>\n",
       "      <td>17.2</td>\n",
       "      <td>9.3</td>\n",
       "    </tr>\n",
       "    <tr>\n",
       "      <th>3</th>\n",
       "      <td>151.5</td>\n",
       "      <td>18.5</td>\n",
       "    </tr>\n",
       "    <tr>\n",
       "      <th>4</th>\n",
       "      <td>180.8</td>\n",
       "      <td>12.9</td>\n",
       "    </tr>\n",
       "  </tbody>\n",
       "</table>\n",
       "</div>\n",
       "    <div class=\"colab-df-buttons\">\n",
       "\n",
       "  <div class=\"colab-df-container\">\n",
       "    <button class=\"colab-df-convert\" onclick=\"convertToInteractive('df-f8748b00-c491-4f71-87ae-8e9bb4993dba')\"\n",
       "            title=\"Convert this dataframe to an interactive table.\"\n",
       "            style=\"display:none;\">\n",
       "\n",
       "  <svg xmlns=\"http://www.w3.org/2000/svg\" height=\"24px\" viewBox=\"0 -960 960 960\">\n",
       "    <path d=\"M120-120v-720h720v720H120Zm60-500h600v-160H180v160Zm220 220h160v-160H400v160Zm0 220h160v-160H400v160ZM180-400h160v-160H180v160Zm440 0h160v-160H620v160ZM180-180h160v-160H180v160Zm440 0h160v-160H620v160Z\"/>\n",
       "  </svg>\n",
       "    </button>\n",
       "\n",
       "  <style>\n",
       "    .colab-df-container {\n",
       "      display:flex;\n",
       "      gap: 12px;\n",
       "    }\n",
       "\n",
       "    .colab-df-convert {\n",
       "      background-color: #E8F0FE;\n",
       "      border: none;\n",
       "      border-radius: 50%;\n",
       "      cursor: pointer;\n",
       "      display: none;\n",
       "      fill: #1967D2;\n",
       "      height: 32px;\n",
       "      padding: 0 0 0 0;\n",
       "      width: 32px;\n",
       "    }\n",
       "\n",
       "    .colab-df-convert:hover {\n",
       "      background-color: #E2EBFA;\n",
       "      box-shadow: 0px 1px 2px rgba(60, 64, 67, 0.3), 0px 1px 3px 1px rgba(60, 64, 67, 0.15);\n",
       "      fill: #174EA6;\n",
       "    }\n",
       "\n",
       "    .colab-df-buttons div {\n",
       "      margin-bottom: 4px;\n",
       "    }\n",
       "\n",
       "    [theme=dark] .colab-df-convert {\n",
       "      background-color: #3B4455;\n",
       "      fill: #D2E3FC;\n",
       "    }\n",
       "\n",
       "    [theme=dark] .colab-df-convert:hover {\n",
       "      background-color: #434B5C;\n",
       "      box-shadow: 0px 1px 3px 1px rgba(0, 0, 0, 0.15);\n",
       "      filter: drop-shadow(0px 1px 2px rgba(0, 0, 0, 0.3));\n",
       "      fill: #FFFFFF;\n",
       "    }\n",
       "  </style>\n",
       "\n",
       "    <script>\n",
       "      const buttonEl =\n",
       "        document.querySelector('#df-f8748b00-c491-4f71-87ae-8e9bb4993dba button.colab-df-convert');\n",
       "      buttonEl.style.display =\n",
       "        google.colab.kernel.accessAllowed ? 'block' : 'none';\n",
       "\n",
       "      async function convertToInteractive(key) {\n",
       "        const element = document.querySelector('#df-f8748b00-c491-4f71-87ae-8e9bb4993dba');\n",
       "        const dataTable =\n",
       "          await google.colab.kernel.invokeFunction('convertToInteractive',\n",
       "                                                    [key], {});\n",
       "        if (!dataTable) return;\n",
       "\n",
       "        const docLinkHtml = 'Like what you see? Visit the ' +\n",
       "          '<a target=\"_blank\" href=https://colab.research.google.com/notebooks/data_table.ipynb>data table notebook</a>'\n",
       "          + ' to learn more about interactive tables.';\n",
       "        element.innerHTML = '';\n",
       "        dataTable['output_type'] = 'display_data';\n",
       "        await google.colab.output.renderOutput(dataTable, element);\n",
       "        const docLink = document.createElement('div');\n",
       "        docLink.innerHTML = docLinkHtml;\n",
       "        element.appendChild(docLink);\n",
       "      }\n",
       "    </script>\n",
       "  </div>\n",
       "\n",
       "\n",
       "<div id=\"df-0d68a5ec-d3a6-481b-9266-bbc201e7046d\">\n",
       "  <button class=\"colab-df-quickchart\" onclick=\"quickchart('df-0d68a5ec-d3a6-481b-9266-bbc201e7046d')\"\n",
       "            title=\"Suggest charts\"\n",
       "            style=\"display:none;\">\n",
       "\n",
       "<svg xmlns=\"http://www.w3.org/2000/svg\" height=\"24px\"viewBox=\"0 0 24 24\"\n",
       "     width=\"24px\">\n",
       "    <g>\n",
       "        <path d=\"M19 3H5c-1.1 0-2 .9-2 2v14c0 1.1.9 2 2 2h14c1.1 0 2-.9 2-2V5c0-1.1-.9-2-2-2zM9 17H7v-7h2v7zm4 0h-2V7h2v10zm4 0h-2v-4h2v4z\"/>\n",
       "    </g>\n",
       "</svg>\n",
       "  </button>\n",
       "\n",
       "<style>\n",
       "  .colab-df-quickchart {\n",
       "      --bg-color: #E8F0FE;\n",
       "      --fill-color: #1967D2;\n",
       "      --hover-bg-color: #E2EBFA;\n",
       "      --hover-fill-color: #174EA6;\n",
       "      --disabled-fill-color: #AAA;\n",
       "      --disabled-bg-color: #DDD;\n",
       "  }\n",
       "\n",
       "  [theme=dark] .colab-df-quickchart {\n",
       "      --bg-color: #3B4455;\n",
       "      --fill-color: #D2E3FC;\n",
       "      --hover-bg-color: #434B5C;\n",
       "      --hover-fill-color: #FFFFFF;\n",
       "      --disabled-bg-color: #3B4455;\n",
       "      --disabled-fill-color: #666;\n",
       "  }\n",
       "\n",
       "  .colab-df-quickchart {\n",
       "    background-color: var(--bg-color);\n",
       "    border: none;\n",
       "    border-radius: 50%;\n",
       "    cursor: pointer;\n",
       "    display: none;\n",
       "    fill: var(--fill-color);\n",
       "    height: 32px;\n",
       "    padding: 0;\n",
       "    width: 32px;\n",
       "  }\n",
       "\n",
       "  .colab-df-quickchart:hover {\n",
       "    background-color: var(--hover-bg-color);\n",
       "    box-shadow: 0 1px 2px rgba(60, 64, 67, 0.3), 0 1px 3px 1px rgba(60, 64, 67, 0.15);\n",
       "    fill: var(--button-hover-fill-color);\n",
       "  }\n",
       "\n",
       "  .colab-df-quickchart-complete:disabled,\n",
       "  .colab-df-quickchart-complete:disabled:hover {\n",
       "    background-color: var(--disabled-bg-color);\n",
       "    fill: var(--disabled-fill-color);\n",
       "    box-shadow: none;\n",
       "  }\n",
       "\n",
       "  .colab-df-spinner {\n",
       "    border: 2px solid var(--fill-color);\n",
       "    border-color: transparent;\n",
       "    border-bottom-color: var(--fill-color);\n",
       "    animation:\n",
       "      spin 1s steps(1) infinite;\n",
       "  }\n",
       "\n",
       "  @keyframes spin {\n",
       "    0% {\n",
       "      border-color: transparent;\n",
       "      border-bottom-color: var(--fill-color);\n",
       "      border-left-color: var(--fill-color);\n",
       "    }\n",
       "    20% {\n",
       "      border-color: transparent;\n",
       "      border-left-color: var(--fill-color);\n",
       "      border-top-color: var(--fill-color);\n",
       "    }\n",
       "    30% {\n",
       "      border-color: transparent;\n",
       "      border-left-color: var(--fill-color);\n",
       "      border-top-color: var(--fill-color);\n",
       "      border-right-color: var(--fill-color);\n",
       "    }\n",
       "    40% {\n",
       "      border-color: transparent;\n",
       "      border-right-color: var(--fill-color);\n",
       "      border-top-color: var(--fill-color);\n",
       "    }\n",
       "    60% {\n",
       "      border-color: transparent;\n",
       "      border-right-color: var(--fill-color);\n",
       "    }\n",
       "    80% {\n",
       "      border-color: transparent;\n",
       "      border-right-color: var(--fill-color);\n",
       "      border-bottom-color: var(--fill-color);\n",
       "    }\n",
       "    90% {\n",
       "      border-color: transparent;\n",
       "      border-bottom-color: var(--fill-color);\n",
       "    }\n",
       "  }\n",
       "</style>\n",
       "\n",
       "  <script>\n",
       "    async function quickchart(key) {\n",
       "      const quickchartButtonEl =\n",
       "        document.querySelector('#' + key + ' button');\n",
       "      quickchartButtonEl.disabled = true;  // To prevent multiple clicks.\n",
       "      quickchartButtonEl.classList.add('colab-df-spinner');\n",
       "      try {\n",
       "        const charts = await google.colab.kernel.invokeFunction(\n",
       "            'suggestCharts', [key], {});\n",
       "      } catch (error) {\n",
       "        console.error('Error during call to suggestCharts:', error);\n",
       "      }\n",
       "      quickchartButtonEl.classList.remove('colab-df-spinner');\n",
       "      quickchartButtonEl.classList.add('colab-df-quickchart-complete');\n",
       "    }\n",
       "    (() => {\n",
       "      let quickchartButtonEl =\n",
       "        document.querySelector('#df-0d68a5ec-d3a6-481b-9266-bbc201e7046d button');\n",
       "      quickchartButtonEl.style.display =\n",
       "        google.colab.kernel.accessAllowed ? 'block' : 'none';\n",
       "    })();\n",
       "  </script>\n",
       "</div>\n",
       "\n",
       "    </div>\n",
       "  </div>\n"
      ],
      "text/plain": [
       "      TV  Sales\n",
       "0  230.1   22.1\n",
       "1   44.5   10.4\n",
       "2   17.2    9.3\n",
       "3  151.5   18.5\n",
       "4  180.8   12.9"
      ]
     },
     "execution_count": 106,
     "metadata": {},
     "output_type": "execute_result"
    }
   ],
   "source": [
    "# Print some part of the dataset.\n",
    "adv.head()"
   ]
  },
  {
   "cell_type": "markdown",
   "metadata": {
    "id": "fQk_r2cK6rPZ"
   },
   "source": [
    "##### __Expected Output__\n",
    "\n",
    "```Python\n",
    "\tTV\tSales\n",
    "0\t230.1\t22.1\n",
    "1\t44.5\t10.4\n",
    "2\t17.2\t9.3\n",
    "3\t151.5\t18.5\n",
    "4\t180.8\t12.9\n",
    "```"
   ]
  },
  {
   "cell_type": "code",
   "execution_count": 107,
   "metadata": {
    "colab": {
     "base_uri": "https://localhost:8080/"
    },
    "id": "z09PR0n56rPa",
    "outputId": "573fc40d-c53a-4890-d97a-a3ab4c8d82eb"
   },
   "outputs": [
    {
     "name": "stdout",
     "output_type": "stream",
     "text": [
      "\u001b[92m All tests passed\n"
     ]
    }
   ],
   "source": [
    "w2_unittest.test_load_data(adv)"
   ]
  },
  {
   "cell_type": "markdown",
   "metadata": {
    "id": "ih0JPZfU6rPa"
   },
   "source": [
    "`pandas` has a function to make plots from the DataFrame fields. By default, matplotlib is used at the backend. Let's use it here:"
   ]
  },
  {
   "cell_type": "code",
   "execution_count": 108,
   "metadata": {
    "colab": {
     "base_uri": "https://localhost:8080/",
     "height": 467
    },
    "id": "bYemvzOF6rPa",
    "outputId": "57ed0d25-5607-42c3-e1ee-53c446091b8a",
    "tags": [
     "graded"
    ]
   },
   "outputs": [
    {
     "data": {
      "text/plain": [
       "<Axes: xlabel='TV', ylabel='Sales'>"
      ]
     },
     "execution_count": 108,
     "metadata": {},
     "output_type": "execute_result"
    },
    {
     "data": {
      "image/png": "[encoded data removed]",
      "text/plain": [
       "<Figure size 640x480 with 1 Axes>"
      ]
     },
     "metadata": {},
     "output_type": "display_data"
    }
   ],
   "source": [
    "adv.plot(x='TV', y='Sales', kind='scatter', c='black')"
   ]
  },
  {
   "cell_type": "markdown",
   "metadata": {
    "id": "yERw6PZPo2u0"
   },
   "source": [
    "### SCATTER PLOT HYPOTHESIS\n",
    "From the previous scatter plot an hypothesis can be said that the relationship between tv marketing expenses and sales could be a linear model i.e a straight line in the positive direction i.e as the tv marketing expenses increase the sales of that product also increases but how can we validate this? How about we find the correlation matrix between our feature(tv marketing expenses) and target(tv sales) 😁"
   ]
  },
  {
   "cell_type": "code",
   "execution_count": 109,
   "metadata": {
    "colab": {
     "base_uri": "https://localhost:8080/",
     "height": 391
    },
    "id": "AA3OY_w9oj5P",
    "outputId": "1cd6c650-b3ad-4109-98b0-9edbd4b799e6"
   },
   "outputs": [
    {
     "data": {
      "image/png": "[encoded data removed]",
      "text/plain": [
       "<Figure size 600x400 with 2 Axes>"
      ]
     },
     "metadata": {},
     "output_type": "display_data"
    }
   ],
   "source": [
    "# @title Correlation between TV Advertising and Sales\n",
    "# Assuming your data is in a pandas DataFrame called 'adv'\n",
    "correlation_matrix = adv[['TV', 'Sales']].corr()\n",
    "\n",
    "plt.figure(figsize=(6, 4))\n",
    "sns.heatmap(correlation_matrix, annot=True, cmap='coolwarm', vmin=-1, vmax=1)\n",
    "_ = plt.title('Correlation between TV Advertising and Sales')"
   ]
  },
  {
   "cell_type": "markdown",
   "metadata": {
    "id": "pCYUV9NFqKh8"
   },
   "source": [
    "### CORRELATION HEAT MAP PROOF\n",
    "The correlation heat map proves our hypothesis that the relationship between tv marketing expenses and tv sales appears to be linear, also it is a positve linear relationship i.e as marketing expenses go up the sales also go up from the anti-diagonal it appears that the correlation between tv marketing expenses and sales is strong which is about 0.78 but can a simple linear regression help us capture the relationship because it appears that the scatter plot as a tiny curve we are about to find out 😁"
   ]
  },
  {
   "cell_type": "markdown",
   "metadata": {
    "id": "8v3CxHDw6rPa"
   },
   "source": [
    "You can use this dataset to solve a simple problem with linear regression: given a TV marketing budget, predict sales."
   ]
  },
  {
   "cell_type": "markdown",
   "metadata": {
    "id": "PAxfJx4K6rPa"
   },
   "source": [
    "<a name='2'></a>\n",
    "## 2 - Linear Regression in Python with `NumPy` and `Scikit-Learn`"
   ]
  },
  {
   "cell_type": "markdown",
   "metadata": {
    "id": "1iDBn7sN6rPa"
   },
   "source": [
    "Save the required field of the DataFrame into variables `X` and `Y`:"
   ]
  },
  {
   "cell_type": "code",
   "execution_count": 110,
   "metadata": {
    "id": "zlACC1Bs6rPb",
    "tags": [
     "graded"
    ]
   },
   "outputs": [],
   "source": [
    "X = adv['TV']\n",
    "Y = adv['Sales']"
   ]
  },
  {
   "cell_type": "code",
   "execution_count": 111,
   "metadata": {
    "colab": {
     "base_uri": "https://localhost:8080/",
     "height": 241
    },
    "collapsed": true,
    "id": "J4EHZLCiro3d",
    "outputId": "1ef699ed-cd56-49a8-f6ed-adc7f87c9869"
   },
   "outputs": [
    {
     "data": {
      "text/html": [
       "<div>\n",
       "<style scoped>\n",
       "    .dataframe tbody tr th:only-of-type {\n",
       "        vertical-align: middle;\n",
       "    }\n",
       "\n",
       "    .dataframe tbody tr th {\n",
       "        vertical-align: top;\n",
       "    }\n",
       "\n",
       "    .dataframe thead th {\n",
       "        text-align: right;\n",
       "    }\n",
       "</style>\n",
       "<table border=\"1\" class=\"dataframe\">\n",
       "  <thead>\n",
       "    <tr style=\"text-align: right;\">\n",
       "      <th></th>\n",
       "      <th>TV</th>\n",
       "    </tr>\n",
       "  </thead>\n",
       "  <tbody>\n",
       "    <tr>\n",
       "      <th>0</th>\n",
       "      <td>230.1</td>\n",
       "    </tr>\n",
       "    <tr>\n",
       "      <th>1</th>\n",
       "      <td>44.5</td>\n",
       "    </tr>\n",
       "    <tr>\n",
       "      <th>2</th>\n",
       "      <td>17.2</td>\n",
       "    </tr>\n",
       "    <tr>\n",
       "      <th>3</th>\n",
       "      <td>151.5</td>\n",
       "    </tr>\n",
       "    <tr>\n",
       "      <th>4</th>\n",
       "      <td>180.8</td>\n",
       "    </tr>\n",
       "  </tbody>\n",
       "</table>\n",
       "</div><br><label><b>dtype:</b> float64</label>"
      ],
      "text/plain": [
       "0    230.1\n",
       "1     44.5\n",
       "2     17.2\n",
       "3    151.5\n",
       "4    180.8\n",
       "Name: TV, dtype: float64"
      ]
     },
     "execution_count": 111,
     "metadata": {},
     "output_type": "execute_result"
    }
   ],
   "source": [
    "X.head()"
   ]
  },
  {
   "cell_type": "code",
   "execution_count": 112,
   "metadata": {
    "colab": {
     "base_uri": "https://localhost:8080/",
     "height": 335
    },
    "collapsed": true,
    "id": "OoYy3NFwh5-g",
    "outputId": "4014ba3a-e35c-4fd1-f69d-1c226c2427a1"
   },
   "outputs": [
    {
     "data": {
      "text/html": [
       "<div>\n",
       "<style scoped>\n",
       "    .dataframe tbody tr th:only-of-type {\n",
       "        vertical-align: middle;\n",
       "    }\n",
       "\n",
       "    .dataframe tbody tr th {\n",
       "        vertical-align: top;\n",
       "    }\n",
       "\n",
       "    .dataframe thead th {\n",
       "        text-align: right;\n",
       "    }\n",
       "</style>\n",
       "<table border=\"1\" class=\"dataframe\">\n",
       "  <thead>\n",
       "    <tr style=\"text-align: right;\">\n",
       "      <th></th>\n",
       "      <th>TV</th>\n",
       "    </tr>\n",
       "  </thead>\n",
       "  <tbody>\n",
       "    <tr>\n",
       "      <th>count</th>\n",
       "      <td>200.000000</td>\n",
       "    </tr>\n",
       "    <tr>\n",
       "      <th>mean</th>\n",
       "      <td>147.042500</td>\n",
       "    </tr>\n",
       "    <tr>\n",
       "      <th>std</th>\n",
       "      <td>85.854236</td>\n",
       "    </tr>\n",
       "    <tr>\n",
       "      <th>min</th>\n",
       "      <td>0.700000</td>\n",
       "    </tr>\n",
       "    <tr>\n",
       "      <th>25%</th>\n",
       "      <td>74.375000</td>\n",
       "    </tr>\n",
       "    <tr>\n",
       "      <th>50%</th>\n",
       "      <td>149.750000</td>\n",
       "    </tr>\n",
       "    <tr>\n",
       "      <th>75%</th>\n",
       "      <td>218.825000</td>\n",
       "    </tr>\n",
       "    <tr>\n",
       "      <th>max</th>\n",
       "      <td>296.400000</td>\n",
       "    </tr>\n",
       "  </tbody>\n",
       "</table>\n",
       "</div><br><label><b>dtype:</b> float64</label>"
      ],
      "text/plain": [
       "count    200.000000\n",
       "mean     147.042500\n",
       "std       85.854236\n",
       "min        0.700000\n",
       "25%       74.375000\n",
       "50%      149.750000\n",
       "75%      218.825000\n",
       "max      296.400000\n",
       "Name: TV, dtype: float64"
      ]
     },
     "execution_count": 112,
     "metadata": {},
     "output_type": "execute_result"
    }
   ],
   "source": [
    "X.describe()"
   ]
  },
  {
   "cell_type": "code",
   "execution_count": 113,
   "metadata": {
    "colab": {
     "base_uri": "https://localhost:8080/",
     "height": 241
    },
    "collapsed": true,
    "id": "q07LYlfprzSX",
    "outputId": "e3f85ffc-0c9d-4cd3-9e7a-6a54c4ebedc8"
   },
   "outputs": [
    {
     "data": {
      "text/html": [
       "<div>\n",
       "<style scoped>\n",
       "    .dataframe tbody tr th:only-of-type {\n",
       "        vertical-align: middle;\n",
       "    }\n",
       "\n",
       "    .dataframe tbody tr th {\n",
       "        vertical-align: top;\n",
       "    }\n",
       "\n",
       "    .dataframe thead th {\n",
       "        text-align: right;\n",
       "    }\n",
       "</style>\n",
       "<table border=\"1\" class=\"dataframe\">\n",
       "  <thead>\n",
       "    <tr style=\"text-align: right;\">\n",
       "      <th></th>\n",
       "      <th>Sales</th>\n",
       "    </tr>\n",
       "  </thead>\n",
       "  <tbody>\n",
       "    <tr>\n",
       "      <th>0</th>\n",
       "      <td>22.1</td>\n",
       "    </tr>\n",
       "    <tr>\n",
       "      <th>1</th>\n",
       "      <td>10.4</td>\n",
       "    </tr>\n",
       "    <tr>\n",
       "      <th>2</th>\n",
       "      <td>9.3</td>\n",
       "    </tr>\n",
       "    <tr>\n",
       "      <th>3</th>\n",
       "      <td>18.5</td>\n",
       "    </tr>\n",
       "    <tr>\n",
       "      <th>4</th>\n",
       "      <td>12.9</td>\n",
       "    </tr>\n",
       "  </tbody>\n",
       "</table>\n",
       "</div><br><label><b>dtype:</b> float64</label>"
      ],
      "text/plain": [
       "0    22.1\n",
       "1    10.4\n",
       "2     9.3\n",
       "3    18.5\n",
       "4    12.9\n",
       "Name: Sales, dtype: float64"
      ]
     },
     "execution_count": 113,
     "metadata": {},
     "output_type": "execute_result"
    }
   ],
   "source": [
    "Y.head()"
   ]
  },
  {
   "cell_type": "markdown",
   "metadata": {
    "id": "gAXZupk96rPb"
   },
   "source": [
    "<a name='2.1'></a>\n",
    "### 2.1 - Linear Regression with `NumPy`"
   ]
  },
  {
   "cell_type": "markdown",
   "metadata": {
    "id": "b_AYPl166rPb"
   },
   "source": [
    "You can use the function `np.polyfit(x, y, deg)` to fit a polynomial of degree `deg` to points $(x, y)$, minimising the sum of squared errors. You can read more in the [documentation](https://numpy.org/doc/stable/reference/generated/numpy.polyfit.html). Taking `deg = 1` you can obtain the slope `m` and the intercept `b` of the linear regression line:"
   ]
  },
  {
   "cell_type": "code",
   "execution_count": 114,
   "metadata": {
    "colab": {
     "base_uri": "https://localhost:8080/"
    },
    "id": "Z9QzeLYQ6rPb",
    "outputId": "9c9d33c6-c394-41e1-e889-1d49febaef27",
    "tags": [
     "graded"
    ]
   },
   "outputs": [
    {
     "name": "stdout",
     "output_type": "stream",
     "text": [
      "Linear regression with NumPy. Slope: 0.04753664043301975. Intercept: 7.0325935491276965\n"
     ]
    }
   ],
   "source": [
    "m_numpy, b_numpy = np.polyfit(X, Y, deg=1)\n",
    "\n",
    "print(f\"Linear regression with NumPy. Slope: {m_numpy}. Intercept: {b_numpy}\")"
   ]
  },
  {
   "cell_type": "markdown",
   "metadata": {
    "id": "3IGX-Aco6rPb"
   },
   "source": [
    "*Note*: [`NumPy` documentation](https://numpy.org/doc/stable/reference/generated/numpy.polyfit.html) suggests the [`Polynomial.fit` class method](https://numpy.org/doc/stable/reference/generated/numpy.polynomial.polynomial.Polynomial.fit.html#numpy.polynomial.polynomial.Polynomial.fit) as recommended for new code as it is more stable numerically. But in this simple example, you can stick to the `np.polyfit` function for simplicity."
   ]
  },
  {
   "cell_type": "markdown",
   "metadata": {
    "id": "XQYzHp8-6rPb"
   },
   "source": [
    "<a name='ex02'></a>\n",
    "### Exercise 2\n",
    "\n",
    "Make predictions substituting the obtained slope and intercept coefficients into the equation $Y = mX + b$, given an array of $X$ values."
   ]
  },
  {
   "cell_type": "code",
   "execution_count": 115,
   "metadata": {
    "id": "j-ffDoJG6rPb",
    "tags": [
     "graded"
    ]
   },
   "outputs": [],
   "source": [
    "# This is organised as a function only for grading purposes.\n",
    "def pred_numpy(m, b, X):\n",
    "    Y = m * X + b\n",
    "    return Y"
   ]
  },
  {
   "cell_type": "markdown",
   "metadata": {
    "id": "SSBvxJSIAJqV"
   },
   "source": [
    "# Visualizing predictions\n",
    "So here we are going to visualize own own predicted y values using our slope and bias gottting from np.polyfit to see how it did."
   ]
  },
  {
   "cell_type": "code",
   "execution_count": 116,
   "metadata": {
    "colab": {
     "base_uri": "https://localhost:8080/",
     "height": 472
    },
    "id": "ASZzDJdgBicf",
    "outputId": "b94252b4-4198-4154-b991-747d8012087f"
   },
   "outputs": [
    {
     "data": {
      "image/png": "[encoded data removed]",
      "text/plain": [
       "<Figure size 640x480 with 1 Axes>"
      ]
     },
     "metadata": {},
     "output_type": "display_data"
    }
   ],
   "source": [
    "plt.scatter(X, Y, color='black', label='Data')  # Plot the original data\n",
    "plt.plot(X, m_numpy * X + b_numpy, color='red', label='Fitted Line')  # Plot the fitted line\n",
    "plt.xlabel('TV')\n",
    "plt.ylabel('Sales')\n",
    "plt.title('Linear Regression Model using Numpy')\n",
    "plt.legend()\n",
    "plt.show()"
   ]
  },
  {
   "cell_type": "code",
   "execution_count": 117,
   "metadata": {
    "colab": {
     "base_uri": "https://localhost:8080/"
    },
    "id": "grGPkBDw6rPc",
    "outputId": "679a48f6-1f66-4d93-8a4f-55ab332174df",
    "tags": [
     "graded"
    ]
   },
   "outputs": [
    {
     "name": "stdout",
     "output_type": "stream",
     "text": [
      "TV marketing expenses:\n",
      "[ 50 120 280]\n",
      "Predictions of sales using NumPy linear regression:\n",
      "[ 9.40942557 12.7369904  20.34285287]\n"
     ]
    }
   ],
   "source": [
    "X_pred = np.array([50, 120, 280])\n",
    "Y_pred_numpy = pred_numpy(m_numpy, b_numpy, X_pred)\n",
    "\n",
    "print(f\"TV marketing expenses:\\n{X_pred}\")\n",
    "print(f\"Predictions of sales using NumPy linear regression:\\n{Y_pred_numpy}\")"
   ]
  },
  {
   "cell_type": "markdown",
   "metadata": {
    "id": "Ei1HFkW16rPc"
   },
   "source": [
    "##### __Expected Output__\n",
    "\n",
    "```Python\n",
    "TV marketing expenses:\n",
    "[ 50 120 280]\n",
    "Predictions of sales using NumPy linear regression:\n",
    "[ 9.40942557 12.7369904  20.34285287]\n",
    "```"
   ]
  },
  {
   "cell_type": "code",
   "execution_count": 118,
   "metadata": {
    "colab": {
     "base_uri": "https://localhost:8080/"
    },
    "id": "J6hP1sOh6rPc",
    "outputId": "0c08f7c9-def4-4743-fb10-5293fd013d58"
   },
   "outputs": [
    {
     "name": "stdout",
     "output_type": "stream",
     "text": [
      "\u001b[92m All tests passed\n"
     ]
    }
   ],
   "source": [
    "w2_unittest.test_pred_numpy(pred_numpy)"
   ]
  },
  {
   "cell_type": "markdown",
   "metadata": {
    "id": "ZrHhLUxx6rPc"
   },
   "source": [
    "<a name='2.2'></a>\n",
    "### 2.2 - Linear Regression with `Scikit-Learn`"
   ]
  },
  {
   "cell_type": "markdown",
   "metadata": {
    "id": "x9fsySKj6rPc"
   },
   "source": [
    "`Scikit-Learn` is an open-source machine learning library that supports supervised and unsupervised learning. It also provides various tools for model fitting, data preprocessing, model selection, model evaluation, and many other utilities. `Scikit-learn` provides dozens of built-in machine learning algorithms and models, called **estimators**. Each estimator can be fitted to some data using its `fit` method. Full documentation can be found [here](https://scikit-learn.org/stable/)."
   ]
  },
  {
   "cell_type": "markdown",
   "metadata": {
    "id": "S4JiS30e6rPc"
   },
   "source": [
    "Create an estimator object for a linear regression model:"
   ]
  },
  {
   "cell_type": "code",
   "execution_count": 119,
   "metadata": {
    "id": "8GFfrNtf6rPd",
    "tags": []
   },
   "outputs": [],
   "source": [
    "lr_sklearn = LinearRegression()"
   ]
  },
  {
   "cell_type": "markdown",
   "metadata": {
    "id": "PZSY20Er6rPd"
   },
   "source": [
    "The estimator can learn from data calling the `fit` function. However, trying to run the following code you will get an error, as the data needs to be reshaped into 2D array:"
   ]
  },
  {
   "cell_type": "code",
   "execution_count": 120,
   "metadata": {
    "colab": {
     "base_uri": "https://localhost:8080/"
    },
    "id": "MFpbPMHO6rPd",
    "outputId": "e1429f47-5458-4672-ca17-243f4706509f",
    "tags": []
   },
   "outputs": [
    {
     "name": "stdout",
     "output_type": "stream",
     "text": [
      "Shape of X array: (200,)\n",
      "Shape of Y array: (200,)\n",
      "Expected a 2-dimensional container but got <class 'pandas.core.series.Series'> instead. Pass a DataFrame containing a single row (i.e. single sample) or a single column (i.e. single feature) instead.\n"
     ]
    }
   ],
   "source": [
    "print(f\"Shape of X array: {X.shape}\")\n",
    "print(f\"Shape of Y array: {Y.shape}\")\n",
    "\n",
    "try:\n",
    "    lr_sklearn.fit(X, Y)\n",
    "except ValueError as err:\n",
    "    print(err)"
   ]
  },
  {
   "cell_type": "markdown",
   "metadata": {
    "id": "sFXmM3sD6rPd"
   },
   "source": [
    "You can increase the dimension of the array by one with `reshape` function, or there is another another way to do it:"
   ]
  },
  {
   "cell_type": "code",
   "execution_count": 121,
   "metadata": {
    "colab": {
     "base_uri": "https://localhost:8080/"
    },
    "id": "HI9fOBYX6rPd",
    "outputId": "4f441bf0-475d-487f-8bc4-b90c295a2e88",
    "tags": [
     "graded"
    ]
   },
   "outputs": [
    {
     "name": "stdout",
     "output_type": "stream",
     "text": [
      "Shape of new X array: (200, 1)\n",
      "Shape of new Y array: (200, 1)\n"
     ]
    }
   ],
   "source": [
    "X_sklearn = np.array(X).reshape(-1, 1)\n",
    "Y_sklearn = np.array(Y).reshape(-1, 1)\n",
    "\n",
    "print(f\"Shape of new X array: {X_sklearn.shape}\")\n",
    "print(f\"Shape of new Y array: {Y_sklearn.shape}\")"
   ]
  },
  {
   "cell_type": "markdown",
   "metadata": {
    "id": "NNM0wy686rPd"
   },
   "source": [
    "You have already loaded your dataset into X_sklearn and Y_sklearn\n",
    "Step 1: Split the data into training and testing sets use train_test_split from sklearn\n",
    "The test size shoukd be 20% of the data"
   ]
  },
  {
   "cell_type": "code",
   "execution_count": 122,
   "metadata": {
    "id": "Z1cxBgLO6rPd"
   },
   "outputs": [],
   "source": [
    "X_train, X_test, Y_train, Y_test = train_test_split(X_sklearn, Y_sklearn, test_size=0.2, random_state=42)\n"
   ]
  },
  {
   "cell_type": "markdown",
   "metadata": {
    "id": "OVdNEptq6rPn"
   },
   "source": [
    "Step 2: Fit the linear regression model to the training data\n"
   ]
  },
  {
   "cell_type": "code",
   "execution_count": 123,
   "metadata": {
    "colab": {
     "base_uri": "https://localhost:8080/",
     "height": 80
    },
    "id": "JCOjcOA06rPn",
    "outputId": "a9e3b715-4f67-461a-dfdb-a248fc2240a2"
   },
   "outputs": [
    {
     "data": {
      "text/html": [
       "<style>#sk-container-id-4 {\n",
       "  /* Definition of color scheme common for light and dark mode */\n",
       "  --sklearn-color-text: black;\n",
       "  --sklearn-color-line: gray;\n",
       "  /* Definition of color scheme for unfitted estimators */\n",
       "  --sklearn-color-unfitted-level-0: #fff5e6;\n",
       "  --sklearn-color-unfitted-level-1: #f6e4d2;\n",
       "  --sklearn-color-unfitted-level-2: #ffe0b3;\n",
       "  --sklearn-color-unfitted-level-3: chocolate;\n",
       "  /* Definition of color scheme for fitted estimators */\n",
       "  --sklearn-color-fitted-level-0: #f0f8ff;\n",
       "  --sklearn-color-fitted-level-1: #d4ebff;\n",
       "  --sklearn-color-fitted-level-2: #b3dbfd;\n",
       "  --sklearn-color-fitted-level-3: cornflowerblue;\n",
       "\n",
       "  /* Specific color for light theme */\n",
       "  --sklearn-color-text-on-default-background: var(--sg-text-color, var(--theme-code-foreground, var(--jp-content-font-color1, black)));\n",
       "  --sklearn-color-background: var(--sg-background-color, var(--theme-background, var(--jp-layout-color0, white)));\n",
       "  --sklearn-color-border-box: var(--sg-text-color, var(--theme-code-foreground, var(--jp-content-font-color1, black)));\n",
       "  --sklearn-color-icon: #696969;\n",
       "\n",
       "  @media (prefers-color-scheme: dark) {\n",
       "    /* Redefinition of color scheme for dark theme */\n",
       "    --sklearn-color-text-on-default-background: var(--sg-text-color, var(--theme-code-foreground, var(--jp-content-font-color1, white)));\n",
       "    --sklearn-color-background: var(--sg-background-color, var(--theme-background, var(--jp-layout-color0, #111)));\n",
       "    --sklearn-color-border-box: var(--sg-text-color, var(--theme-code-foreground, var(--jp-content-font-color1, white)));\n",
       "    --sklearn-color-icon: #878787;\n",
       "  }\n",
       "}\n",
       "\n",
       "#sk-container-id-4 {\n",
       "  color: var(--sklearn-color-text);\n",
       "}\n",
       "\n",
       "#sk-container-id-4 pre {\n",
       "  padding: 0;\n",
       "}\n",
       "\n",
       "#sk-container-id-4 input.sk-hidden--visually {\n",
       "  border: 0;\n",
       "  clip: rect(1px 1px 1px 1px);\n",
       "  clip: rect(1px, 1px, 1px, 1px);\n",
       "  height: 1px;\n",
       "  margin: -1px;\n",
       "  overflow: hidden;\n",
       "  padding: 0;\n",
       "  position: absolute;\n",
       "  width: 1px;\n",
       "}\n",
       "\n",
       "#sk-container-id-4 div.sk-dashed-wrapped {\n",
       "  border: 1px dashed var(--sklearn-color-line);\n",
       "  margin: 0 0.4em 0.5em 0.4em;\n",
       "  box-sizing: border-box;\n",
       "  padding-bottom: 0.4em;\n",
       "  background-color: var(--sklearn-color-background);\n",
       "}\n",
       "\n",
       "#sk-container-id-4 div.sk-container {\n",
       "  /* jupyter's `normalize.less` sets `[hidden] { display: none; }`\n",
       "     but bootstrap.min.css set `[hidden] { display: none !important; }`\n",
       "     so we also need the `!important` here to be able to override the\n",
       "     default hidden behavior on the sphinx rendered scikit-learn.org.\n",
       "     See: https://github.com/scikit-learn/scikit-learn/issues/21755 */\n",
       "  display: inline-block !important;\n",
       "  position: relative;\n",
       "}\n",
       "\n",
       "#sk-container-id-4 div.sk-text-repr-fallback {\n",
       "  display: none;\n",
       "}\n",
       "\n",
       "div.sk-parallel-item,\n",
       "div.sk-serial,\n",
       "div.sk-item {\n",
       "  /* draw centered vertical line to link estimators */\n",
       "  background-image: linear-gradient(var(--sklearn-color-text-on-default-background), var(--sklearn-color-text-on-default-background));\n",
       "  background-size: 2px 100%;\n",
       "  background-repeat: no-repeat;\n",
       "  background-position: center center;\n",
       "}\n",
       "\n",
       "/* Parallel-specific style estimator block */\n",
       "\n",
       "#sk-container-id-4 div.sk-parallel-item::after {\n",
       "  content: \"\";\n",
       "  width: 100%;\n",
       "  border-bottom: 2px solid var(--sklearn-color-text-on-default-background);\n",
       "  flex-grow: 1;\n",
       "}\n",
       "\n",
       "#sk-container-id-4 div.sk-parallel {\n",
       "  display: flex;\n",
       "  align-items: stretch;\n",
       "  justify-content: center;\n",
       "  background-color: var(--sklearn-color-background);\n",
       "  position: relative;\n",
       "}\n",
       "\n",
       "#sk-container-id-4 div.sk-parallel-item {\n",
       "  display: flex;\n",
       "  flex-direction: column;\n",
       "}\n",
       "\n",
       "#sk-container-id-4 div.sk-parallel-item:first-child::after {\n",
       "  align-self: flex-end;\n",
       "  width: 50%;\n",
       "}\n",
       "\n",
       "#sk-container-id-4 div.sk-parallel-item:last-child::after {\n",
       "  align-self: flex-start;\n",
       "  width: 50%;\n",
       "}\n",
       "\n",
       "#sk-container-id-4 div.sk-parallel-item:only-child::after {\n",
       "  width: 0;\n",
       "}\n",
       "\n",
       "/* Serial-specific style estimator block */\n",
       "\n",
       "#sk-container-id-4 div.sk-serial {\n",
       "  display: flex;\n",
       "  flex-direction: column;\n",
       "  align-items: center;\n",
       "  background-color: var(--sklearn-color-background);\n",
       "  padding-right: 1em;\n",
       "  padding-left: 1em;\n",
       "}\n",
       "\n",
       "\n",
       "/* Toggleable style: style used for estimator/Pipeline/ColumnTransformer box that is\n",
       "clickable and can be expanded/collapsed.\n",
       "- Pipeline and ColumnTransformer use this feature and define the default style\n",
       "- Estimators will overwrite some part of the style using the `sk-estimator` class\n",
       "*/\n",
       "\n",
       "/* Pipeline and ColumnTransformer style (default) */\n",
       "\n",
       "#sk-container-id-4 div.sk-toggleable {\n",
       "  /* Default theme specific background. It is overwritten whether we have a\n",
       "  specific estimator or a Pipeline/ColumnTransformer */\n",
       "  background-color: var(--sklearn-color-background);\n",
       "}\n",
       "\n",
       "/* Toggleable label */\n",
       "#sk-container-id-4 label.sk-toggleable__label {\n",
       "  cursor: pointer;\n",
       "  display: block;\n",
       "  width: 100%;\n",
       "  margin-bottom: 0;\n",
       "  padding: 0.5em;\n",
       "  box-sizing: border-box;\n",
       "  text-align: center;\n",
       "}\n",
       "\n",
       "#sk-container-id-4 label.sk-toggleable__label-arrow:before {\n",
       "  /* Arrow on the left of the label */\n",
       "  content: \"▸\";\n",
       "  float: left;\n",
       "  margin-right: 0.25em;\n",
       "  color: var(--sklearn-color-icon);\n",
       "}\n",
       "\n",
       "#sk-container-id-4 label.sk-toggleable__label-arrow:hover:before {\n",
       "  color: var(--sklearn-color-text);\n",
       "}\n",
       "\n",
       "/* Toggleable content - dropdown */\n",
       "\n",
       "#sk-container-id-4 div.sk-toggleable__content {\n",
       "  max-height: 0;\n",
       "  max-width: 0;\n",
       "  overflow: hidden;\n",
       "  text-align: left;\n",
       "  /* unfitted */\n",
       "  background-color: var(--sklearn-color-unfitted-level-0);\n",
       "}\n",
       "\n",
       "#sk-container-id-4 div.sk-toggleable__content.fitted {\n",
       "  /* fitted */\n",
       "  background-color: var(--sklearn-color-fitted-level-0);\n",
       "}\n",
       "\n",
       "#sk-container-id-4 div.sk-toggleable__content pre {\n",
       "  margin: 0.2em;\n",
       "  border-radius: 0.25em;\n",
       "  color: var(--sklearn-color-text);\n",
       "  /* unfitted */\n",
       "  background-color: var(--sklearn-color-unfitted-level-0);\n",
       "}\n",
       "\n",
       "#sk-container-id-4 div.sk-toggleable__content.fitted pre {\n",
       "  /* unfitted */\n",
       "  background-color: var(--sklearn-color-fitted-level-0);\n",
       "}\n",
       "\n",
       "#sk-container-id-4 input.sk-toggleable__control:checked~div.sk-toggleable__content {\n",
       "  /* Expand drop-down */\n",
       "  max-height: 200px;\n",
       "  max-width: 100%;\n",
       "  overflow: auto;\n",
       "}\n",
       "\n",
       "#sk-container-id-4 input.sk-toggleable__control:checked~label.sk-toggleable__label-arrow:before {\n",
       "  content: \"▾\";\n",
       "}\n",
       "\n",
       "/* Pipeline/ColumnTransformer-specific style */\n",
       "\n",
       "#sk-container-id-4 div.sk-label input.sk-toggleable__control:checked~label.sk-toggleable__label {\n",
       "  color: var(--sklearn-color-text);\n",
       "  background-color: var(--sklearn-color-unfitted-level-2);\n",
       "}\n",
       "\n",
       "#sk-container-id-4 div.sk-label.fitted input.sk-toggleable__control:checked~label.sk-toggleable__label {\n",
       "  background-color: var(--sklearn-color-fitted-level-2);\n",
       "}\n",
       "\n",
       "/* Estimator-specific style */\n",
       "\n",
       "/* Colorize estimator box */\n",
       "#sk-container-id-4 div.sk-estimator input.sk-toggleable__control:checked~label.sk-toggleable__label {\n",
       "  /* unfitted */\n",
       "  background-color: var(--sklearn-color-unfitted-level-2);\n",
       "}\n",
       "\n",
       "#sk-container-id-4 div.sk-estimator.fitted input.sk-toggleable__control:checked~label.sk-toggleable__label {\n",
       "  /* fitted */\n",
       "  background-color: var(--sklearn-color-fitted-level-2);\n",
       "}\n",
       "\n",
       "#sk-container-id-4 div.sk-label label.sk-toggleable__label,\n",
       "#sk-container-id-4 div.sk-label label {\n",
       "  /* The background is the default theme color */\n",
       "  color: var(--sklearn-color-text-on-default-background);\n",
       "}\n",
       "\n",
       "/* On hover, darken the color of the background */\n",
       "#sk-container-id-4 div.sk-label:hover label.sk-toggleable__label {\n",
       "  color: var(--sklearn-color-text);\n",
       "  background-color: var(--sklearn-color-unfitted-level-2);\n",
       "}\n",
       "\n",
       "/* Label box, darken color on hover, fitted */\n",
       "#sk-container-id-4 div.sk-label.fitted:hover label.sk-toggleable__label.fitted {\n",
       "  color: var(--sklearn-color-text);\n",
       "  background-color: var(--sklearn-color-fitted-level-2);\n",
       "}\n",
       "\n",
       "/* Estimator label */\n",
       "\n",
       "#sk-container-id-4 div.sk-label label {\n",
       "  font-family: monospace;\n",
       "  font-weight: bold;\n",
       "  display: inline-block;\n",
       "  line-height: 1.2em;\n",
       "}\n",
       "\n",
       "#sk-container-id-4 div.sk-label-container {\n",
       "  text-align: center;\n",
       "}\n",
       "\n",
       "/* Estimator-specific */\n",
       "#sk-container-id-4 div.sk-estimator {\n",
       "  font-family: monospace;\n",
       "  border: 1px dotted var(--sklearn-color-border-box);\n",
       "  border-radius: 0.25em;\n",
       "  box-sizing: border-box;\n",
       "  margin-bottom: 0.5em;\n",
       "  /* unfitted */\n",
       "  background-color: var(--sklearn-color-unfitted-level-0);\n",
       "}\n",
       "\n",
       "#sk-container-id-4 div.sk-estimator.fitted {\n",
       "  /* fitted */\n",
       "  background-color: var(--sklearn-color-fitted-level-0);\n",
       "}\n",
       "\n",
       "/* on hover */\n",
       "#sk-container-id-4 div.sk-estimator:hover {\n",
       "  /* unfitted */\n",
       "  background-color: var(--sklearn-color-unfitted-level-2);\n",
       "}\n",
       "\n",
       "#sk-container-id-4 div.sk-estimator.fitted:hover {\n",
       "  /* fitted */\n",
       "  background-color: var(--sklearn-color-fitted-level-2);\n",
       "}\n",
       "\n",
       "/* Specification for estimator info (e.g. \"i\" and \"?\") */\n",
       "\n",
       "/* Common style for \"i\" and \"?\" */\n",
       "\n",
       ".sk-estimator-doc-link,\n",
       "a:link.sk-estimator-doc-link,\n",
       "a:visited.sk-estimator-doc-link {\n",
       "  float: right;\n",
       "  font-size: smaller;\n",
       "  line-height: 1em;\n",
       "  font-family: monospace;\n",
       "  background-color: var(--sklearn-color-background);\n",
       "  border-radius: 1em;\n",
       "  height: 1em;\n",
       "  width: 1em;\n",
       "  text-decoration: none !important;\n",
       "  margin-left: 1ex;\n",
       "  /* unfitted */\n",
       "  border: var(--sklearn-color-unfitted-level-1) 1pt solid;\n",
       "  color: var(--sklearn-color-unfitted-level-1);\n",
       "}\n",
       "\n",
       ".sk-estimator-doc-link.fitted,\n",
       "a:link.sk-estimator-doc-link.fitted,\n",
       "a:visited.sk-estimator-doc-link.fitted {\n",
       "  /* fitted */\n",
       "  border: var(--sklearn-color-fitted-level-1) 1pt solid;\n",
       "  color: var(--sklearn-color-fitted-level-1);\n",
       "}\n",
       "\n",
       "/* On hover */\n",
       "div.sk-estimator:hover .sk-estimator-doc-link:hover,\n",
       ".sk-estimator-doc-link:hover,\n",
       "div.sk-label-container:hover .sk-estimator-doc-link:hover,\n",
       ".sk-estimator-doc-link:hover {\n",
       "  /* unfitted */\n",
       "  background-color: var(--sklearn-color-unfitted-level-3);\n",
       "  color: var(--sklearn-color-background);\n",
       "  text-decoration: none;\n",
       "}\n",
       "\n",
       "div.sk-estimator.fitted:hover .sk-estimator-doc-link.fitted:hover,\n",
       ".sk-estimator-doc-link.fitted:hover,\n",
       "div.sk-label-container:hover .sk-estimator-doc-link.fitted:hover,\n",
       ".sk-estimator-doc-link.fitted:hover {\n",
       "  /* fitted */\n",
       "  background-color: var(--sklearn-color-fitted-level-3);\n",
       "  color: var(--sklearn-color-background);\n",
       "  text-decoration: none;\n",
       "}\n",
       "\n",
       "/* Span, style for the box shown on hovering the info icon */\n",
       ".sk-estimator-doc-link span {\n",
       "  display: none;\n",
       "  z-index: 9999;\n",
       "  position: relative;\n",
       "  font-weight: normal;\n",
       "  right: .2ex;\n",
       "  padding: .5ex;\n",
       "  margin: .5ex;\n",
       "  width: min-content;\n",
       "  min-width: 20ex;\n",
       "  max-width: 50ex;\n",
       "  color: var(--sklearn-color-text);\n",
       "  box-shadow: 2pt 2pt 4pt #999;\n",
       "  /* unfitted */\n",
       "  background: var(--sklearn-color-unfitted-level-0);\n",
       "  border: .5pt solid var(--sklearn-color-unfitted-level-3);\n",
       "}\n",
       "\n",
       ".sk-estimator-doc-link.fitted span {\n",
       "  /* fitted */\n",
       "  background: var(--sklearn-color-fitted-level-0);\n",
       "  border: var(--sklearn-color-fitted-level-3);\n",
       "}\n",
       "\n",
       ".sk-estimator-doc-link:hover span {\n",
       "  display: block;\n",
       "}\n",
       "\n",
       "/* \"?\"-specific style due to the `<a>` HTML tag */\n",
       "\n",
       "#sk-container-id-4 a.estimator_doc_link {\n",
       "  float: right;\n",
       "  font-size: 1rem;\n",
       "  line-height: 1em;\n",
       "  font-family: monospace;\n",
       "  background-color: var(--sklearn-color-background);\n",
       "  border-radius: 1rem;\n",
       "  height: 1rem;\n",
       "  width: 1rem;\n",
       "  text-decoration: none;\n",
       "  /* unfitted */\n",
       "  color: var(--sklearn-color-unfitted-level-1);\n",
       "  border: var(--sklearn-color-unfitted-level-1) 1pt solid;\n",
       "}\n",
       "\n",
       "#sk-container-id-4 a.estimator_doc_link.fitted {\n",
       "  /* fitted */\n",
       "  border: var(--sklearn-color-fitted-level-1) 1pt solid;\n",
       "  color: var(--sklearn-color-fitted-level-1);\n",
       "}\n",
       "\n",
       "/* On hover */\n",
       "#sk-container-id-4 a.estimator_doc_link:hover {\n",
       "  /* unfitted */\n",
       "  background-color: var(--sklearn-color-unfitted-level-3);\n",
       "  color: var(--sklearn-color-background);\n",
       "  text-decoration: none;\n",
       "}\n",
       "\n",
       "#sk-container-id-4 a.estimator_doc_link.fitted:hover {\n",
       "  /* fitted */\n",
       "  background-color: var(--sklearn-color-fitted-level-3);\n",
       "}\n",
       "</style><div id=\"sk-container-id-4\" class=\"sk-top-container\"><div class=\"sk-text-repr-fallback\"><pre>LinearRegression()</pre><b>In a Jupyter environment, please rerun this cell to show the HTML representation or trust the notebook. <br />On GitHub, the HTML representation is unable to render, please try loading this page with nbviewer.org.</b></div><div class=\"sk-container\" hidden><div class=\"sk-item\"><div class=\"sk-estimator fitted sk-toggleable\"><input class=\"sk-toggleable__control sk-hidden--visually\" id=\"sk-estimator-id-4\" type=\"checkbox\" checked><label for=\"sk-estimator-id-4\" class=\"sk-toggleable__label fitted sk-toggleable__label-arrow fitted\">&nbsp;&nbsp;LinearRegression<a class=\"sk-estimator-doc-link fitted\" rel=\"noreferrer\" target=\"_blank\" href=\"https://scikit-learn.org/1.5/modules/generated/sklearn.linear_model.LinearRegression.html\">?<span>Documentation for LinearRegression</span></a><span class=\"sk-estimator-doc-link fitted\">i<span>Fitted</span></span></label><div class=\"sk-toggleable__content fitted\"><pre>LinearRegression()</pre></div> </div></div></div></div>"
      ],
      "text/plain": [
       "LinearRegression()"
      ]
     },
     "execution_count": 123,
     "metadata": {},
     "output_type": "execute_result"
    }
   ],
   "source": [
    "lr_sklearn.fit(X_train, Y_train) #Insert proper arguments fro training asper step 1"
   ]
  },
  {
   "cell_type": "markdown",
   "metadata": {
    "id": "peVnPMvN6rPo"
   },
   "source": [
    "\n",
    " Step 3: Make predictions using the fitted model on the testing data\n"
   ]
  },
  {
   "cell_type": "code",
   "execution_count": 124,
   "metadata": {
    "colab": {
     "base_uri": "https://localhost:8080/"
    },
    "collapsed": true,
    "id": "iVNo1HMJ6rPo",
    "outputId": "8c0619be-43e8-4654-979f-2bb3477e0122"
   },
   "outputs": [
    {
     "data": {
      "text/plain": [
       "array([[14.71794394],\n",
       "       [16.2115484 ],\n",
       "       [20.74819743],\n",
       "       [ 7.66403631],\n",
       "       [17.37013877],\n",
       "       [10.61402143],\n",
       "       [17.2072847 ],\n",
       "       [ 9.44612512],\n",
       "       [17.46785121],\n",
       "       [15.2669948 ],\n",
       "       [ 8.58532504],\n",
       "       [ 9.73460946],\n",
       "       [18.03086098],\n",
       "       [ 7.37089899],\n",
       "       [13.61053628],\n",
       "       [15.03899911],\n",
       "       [ 7.45930549],\n",
       "       [16.31391381],\n",
       "       [10.62332738],\n",
       "       [18.16579721],\n",
       "       [17.79821232],\n",
       "       [10.27435438],\n",
       "       [ 8.88776831],\n",
       "       [18.79394862],\n",
       "       [10.33019006],\n",
       "       [ 9.60897918],\n",
       "       [17.05373658],\n",
       "       [13.60123034],\n",
       "       [11.17703121],\n",
       "       [ 7.51048819],\n",
       "       [16.41627922],\n",
       "       [10.339496  ],\n",
       "       [16.37440246],\n",
       "       [ 7.90599093],\n",
       "       [20.18053468],\n",
       "       [18.203021  ],\n",
       "       [ 9.36702457],\n",
       "       [19.85482655],\n",
       "       [12.57292322],\n",
       "       [ 8.39920611]])"
      ]
     },
     "execution_count": 124,
     "metadata": {},
     "output_type": "execute_result"
    }
   ],
   "source": [
    "Y_pred = lr_sklearn.predict(X_test)#use test data from X from step 1 above)\n",
    "Y_pred"
   ]
  },
  {
   "cell_type": "markdown",
   "metadata": {
    "id": "hudBcMsU6rPo"
   },
   "source": [
    " Step 4: Calculate the RMSE\n",
    "Using sklearn.metrics - mean_squared_error"
   ]
  },
  {
   "cell_type": "code",
   "execution_count": 125,
   "metadata": {
    "colab": {
     "base_uri": "https://localhost:8080/"
    },
    "id": "i1UQkkC16rPo",
    "outputId": "47466d51-7d97-4154-94c9-bd03eb57fc31"
   },
   "outputs": [
    {
     "name": "stdout",
     "output_type": "stream",
     "text": [
      "Root Mean Square Error: 3.194472431998898\n"
     ]
    }
   ],
   "source": [
    "#Insert your code here\n",
    "rmse =  np.sqrt(mean_squared_error(Y_test, Y_pred))\n",
    "print(\"Root Mean Square Error:\", rmse)"
   ]
  },
  {
   "cell_type": "markdown",
   "metadata": {
    "id": "e0ohtuuC6rPo"
   },
   "source": [
    "TO DO Create an estimator object for Random Forest and Desision Trees and compare RSMES:"
   ]
  },
  {
   "cell_type": "code",
   "execution_count": 126,
   "metadata": {
    "colab": {
     "base_uri": "https://localhost:8080/"
    },
    "id": "I9M9IOlO6rPo",
    "outputId": "61afe48b-9cc5-4d67-c241-2b4d5409ecab"
   },
   "outputs": [
    {
     "name": "stderr",
     "output_type": "stream",
     "text": [
      "/usr/local/lib/python3.10/dist-packages/sklearn/base.py:1473: DataConversionWarning: A column-vector y was passed when a 1d array was expected. Please change the shape of y to (n_samples,), for example using ravel().\n",
      "  return fit_method(estimator, *args, **kwargs)\n"
     ]
    },
    {
     "data": {
      "text/plain": [
       "{'Linear Regression': 3.194472431998898,\n",
       " 'Random Forest': 3.017054389029325,\n",
       " 'Decision Trees': 3.445214071723265}"
      ]
     },
     "execution_count": 126,
     "metadata": {},
     "output_type": "execute_result"
    }
   ],
   "source": [
    "# To do\n",
    "#Print out the rank of models From the best to the worst performing and associated RSMEs\n",
    "\n",
    "# Create models\n",
    "lr_model = LinearRegression()\n",
    "rf_model = RandomForestRegressor(random_state=42)\n",
    "dt_model = DecisionTreeRegressor(random_state=42)\n",
    "\n",
    "# Train all models\n",
    "lr_model.fit(X_train, Y_train)\n",
    "rf_model.fit(X_train, Y_train)\n",
    "dt_model.fit(X_train, Y_train)\n",
    "\n",
    "# Make predictions\n",
    "lr_pred = lr_model.predict(X_test)\n",
    "rf_pred = rf_model.predict(X_test)\n",
    "dt_pred = dt_model.predict(X_test)\n",
    "\n",
    "# Calculate RMSE for each model\n",
    "lr_rmse = np.sqrt(mean_squared_error(Y_test, lr_pred))\n",
    "rf_rmse = np.sqrt(mean_squared_error(Y_test, rf_pred))\n",
    "dt_rmse = np.sqrt(mean_squared_error(Y_test, dt_pred))\n",
    "\n",
    "model_rank = {\n",
    "    'Linear Regression': lr_rmse,\n",
    "    'Random Forest': rf_rmse,\n",
    "    'Decision Trees': dt_rmse\n",
    "}\n",
    "model_rank"
   ]
  },
  {
   "cell_type": "markdown",
   "metadata": {
    "id": "A7IJ43mE6rPp"
   },
   "source": [
    "The estimator can learn from data calling the `fit` function for RandomForest and Decision Trees"
   ]
  },
  {
   "cell_type": "markdown",
   "metadata": {
    "id": "lk5GFVpP6rPp"
   },
   "source": [
    "Compare the RSME for the three different models and rank them according to performance i.e Print out Model Rank and Associated RSME"
   ]
  },
  {
   "cell_type": "code",
   "execution_count": 127,
   "metadata": {
    "colab": {
     "base_uri": "https://localhost:8080/"
    },
    "id": "oezuiUKg6rPp",
    "outputId": "e9bc8fc0-beac-4a19-df19-56c01bbfb487"
   },
   "outputs": [
    {
     "name": "stdout",
     "output_type": "stream",
     "text": [
      "Model Rankings (by RMSE):\n",
      "Random Forest: 3.017054389029325\n",
      "Linear Regression: 3.194472431998898\n",
      "Decision Trees: 3.445214071723265\n"
     ]
    }
   ],
   "source": [
    "# Sort results by RMSE (ascending)\n",
    "ranked_models = sorted(model_rank.items(), key=lambda item: item[1])\n",
    "\n",
    "# Print rankings\n",
    "print(\"Model Rankings (by RMSE):\")\n",
    "for model_name, rmse in ranked_models:\n",
    "    print(f\"{model_name}: {rmse}\")"
   ]
  },
  {
   "cell_type": "markdown",
   "metadata": {
    "id": "3Dx_XduU6rPq"
   },
   "source": [
    "<a name='ex03'></a>\n",
    "### Exercise 3\n",
    "\n",
    "Fit the linear regression model passing `X_sklearn` and `Y_sklearn` arrays into the function `lr_sklearn.fit`."
   ]
  },
  {
   "cell_type": "code",
   "execution_count": 128,
   "metadata": {
    "colab": {
     "base_uri": "https://localhost:8080/",
     "height": 80
    },
    "id": "obCu3yOZ6rPq",
    "outputId": "70859ffd-5c76-49b5-cdac-cb5574a387c4",
    "tags": [
     "graded"
    ]
   },
   "outputs": [
    {
     "data": {
      "text/html": [
       "<style>#sk-container-id-5 {\n",
       "  /* Definition of color scheme common for light and dark mode */\n",
       "  --sklearn-color-text: black;\n",
       "  --sklearn-color-line: gray;\n",
       "  /* Definition of color scheme for unfitted estimators */\n",
       "  --sklearn-color-unfitted-level-0: #fff5e6;\n",
       "  --sklearn-color-unfitted-level-1: #f6e4d2;\n",
       "  --sklearn-color-unfitted-level-2: #ffe0b3;\n",
       "  --sklearn-color-unfitted-level-3: chocolate;\n",
       "  /* Definition of color scheme for fitted estimators */\n",
       "  --sklearn-color-fitted-level-0: #f0f8ff;\n",
       "  --sklearn-color-fitted-level-1: #d4ebff;\n",
       "  --sklearn-color-fitted-level-2: #b3dbfd;\n",
       "  --sklearn-color-fitted-level-3: cornflowerblue;\n",
       "\n",
       "  /* Specific color for light theme */\n",
       "  --sklearn-color-text-on-default-background: var(--sg-text-color, var(--theme-code-foreground, var(--jp-content-font-color1, black)));\n",
       "  --sklearn-color-background: var(--sg-background-color, var(--theme-background, var(--jp-layout-color0, white)));\n",
       "  --sklearn-color-border-box: var(--sg-text-color, var(--theme-code-foreground, var(--jp-content-font-color1, black)));\n",
       "  --sklearn-color-icon: #696969;\n",
       "\n",
       "  @media (prefers-color-scheme: dark) {\n",
       "    /* Redefinition of color scheme for dark theme */\n",
       "    --sklearn-color-text-on-default-background: var(--sg-text-color, var(--theme-code-foreground, var(--jp-content-font-color1, white)));\n",
       "    --sklearn-color-background: var(--sg-background-color, var(--theme-background, var(--jp-layout-color0, #111)));\n",
       "    --sklearn-color-border-box: var(--sg-text-color, var(--theme-code-foreground, var(--jp-content-font-color1, white)));\n",
       "    --sklearn-color-icon: #878787;\n",
       "  }\n",
       "}\n",
       "\n",
       "#sk-container-id-5 {\n",
       "  color: var(--sklearn-color-text);\n",
       "}\n",
       "\n",
       "#sk-container-id-5 pre {\n",
       "  padding: 0;\n",
       "}\n",
       "\n",
       "#sk-container-id-5 input.sk-hidden--visually {\n",
       "  border: 0;\n",
       "  clip: rect(1px 1px 1px 1px);\n",
       "  clip: rect(1px, 1px, 1px, 1px);\n",
       "  height: 1px;\n",
       "  margin: -1px;\n",
       "  overflow: hidden;\n",
       "  padding: 0;\n",
       "  position: absolute;\n",
       "  width: 1px;\n",
       "}\n",
       "\n",
       "#sk-container-id-5 div.sk-dashed-wrapped {\n",
       "  border: 1px dashed var(--sklearn-color-line);\n",
       "  margin: 0 0.4em 0.5em 0.4em;\n",
       "  box-sizing: border-box;\n",
       "  padding-bottom: 0.4em;\n",
       "  background-color: var(--sklearn-color-background);\n",
       "}\n",
       "\n",
       "#sk-container-id-5 div.sk-container {\n",
       "  /* jupyter's `normalize.less` sets `[hidden] { display: none; }`\n",
       "     but bootstrap.min.css set `[hidden] { display: none !important; }`\n",
       "     so we also need the `!important` here to be able to override the\n",
       "     default hidden behavior on the sphinx rendered scikit-learn.org.\n",
       "     See: https://github.com/scikit-learn/scikit-learn/issues/21755 */\n",
       "  display: inline-block !important;\n",
       "  position: relative;\n",
       "}\n",
       "\n",
       "#sk-container-id-5 div.sk-text-repr-fallback {\n",
       "  display: none;\n",
       "}\n",
       "\n",
       "div.sk-parallel-item,\n",
       "div.sk-serial,\n",
       "div.sk-item {\n",
       "  /* draw centered vertical line to link estimators */\n",
       "  background-image: linear-gradient(var(--sklearn-color-text-on-default-background), var(--sklearn-color-text-on-default-background));\n",
       "  background-size: 2px 100%;\n",
       "  background-repeat: no-repeat;\n",
       "  background-position: center center;\n",
       "}\n",
       "\n",
       "/* Parallel-specific style estimator block */\n",
       "\n",
       "#sk-container-id-5 div.sk-parallel-item::after {\n",
       "  content: \"\";\n",
       "  width: 100%;\n",
       "  border-bottom: 2px solid var(--sklearn-color-text-on-default-background);\n",
       "  flex-grow: 1;\n",
       "}\n",
       "\n",
       "#sk-container-id-5 div.sk-parallel {\n",
       "  display: flex;\n",
       "  align-items: stretch;\n",
       "  justify-content: center;\n",
       "  background-color: var(--sklearn-color-background);\n",
       "  position: relative;\n",
       "}\n",
       "\n",
       "#sk-container-id-5 div.sk-parallel-item {\n",
       "  display: flex;\n",
       "  flex-direction: column;\n",
       "}\n",
       "\n",
       "#sk-container-id-5 div.sk-parallel-item:first-child::after {\n",
       "  align-self: flex-end;\n",
       "  width: 50%;\n",
       "}\n",
       "\n",
       "#sk-container-id-5 div.sk-parallel-item:last-child::after {\n",
       "  align-self: flex-start;\n",
       "  width: 50%;\n",
       "}\n",
       "\n",
       "#sk-container-id-5 div.sk-parallel-item:only-child::after {\n",
       "  width: 0;\n",
       "}\n",
       "\n",
       "/* Serial-specific style estimator block */\n",
       "\n",
       "#sk-container-id-5 div.sk-serial {\n",
       "  display: flex;\n",
       "  flex-direction: column;\n",
       "  align-items: center;\n",
       "  background-color: var(--sklearn-color-background);\n",
       "  padding-right: 1em;\n",
       "  padding-left: 1em;\n",
       "}\n",
       "\n",
       "\n",
       "/* Toggleable style: style used for estimator/Pipeline/ColumnTransformer box that is\n",
       "clickable and can be expanded/collapsed.\n",
       "- Pipeline and ColumnTransformer use this feature and define the default style\n",
       "- Estimators will overwrite some part of the style using the `sk-estimator` class\n",
       "*/\n",
       "\n",
       "/* Pipeline and ColumnTransformer style (default) */\n",
       "\n",
       "#sk-container-id-5 div.sk-toggleable {\n",
       "  /* Default theme specific background. It is overwritten whether we have a\n",
       "  specific estimator or a Pipeline/ColumnTransformer */\n",
       "  background-color: var(--sklearn-color-background);\n",
       "}\n",
       "\n",
       "/* Toggleable label */\n",
       "#sk-container-id-5 label.sk-toggleable__label {\n",
       "  cursor: pointer;\n",
       "  display: block;\n",
       "  width: 100%;\n",
       "  margin-bottom: 0;\n",
       "  padding: 0.5em;\n",
       "  box-sizing: border-box;\n",
       "  text-align: center;\n",
       "}\n",
       "\n",
       "#sk-container-id-5 label.sk-toggleable__label-arrow:before {\n",
       "  /* Arrow on the left of the label */\n",
       "  content: \"▸\";\n",
       "  float: left;\n",
       "  margin-right: 0.25em;\n",
       "  color: var(--sklearn-color-icon);\n",
       "}\n",
       "\n",
       "#sk-container-id-5 label.sk-toggleable__label-arrow:hover:before {\n",
       "  color: var(--sklearn-color-text);\n",
       "}\n",
       "\n",
       "/* Toggleable content - dropdown */\n",
       "\n",
       "#sk-container-id-5 div.sk-toggleable__content {\n",
       "  max-height: 0;\n",
       "  max-width: 0;\n",
       "  overflow: hidden;\n",
       "  text-align: left;\n",
       "  /* unfitted */\n",
       "  background-color: var(--sklearn-color-unfitted-level-0);\n",
       "}\n",
       "\n",
       "#sk-container-id-5 div.sk-toggleable__content.fitted {\n",
       "  /* fitted */\n",
       "  background-color: var(--sklearn-color-fitted-level-0);\n",
       "}\n",
       "\n",
       "#sk-container-id-5 div.sk-toggleable__content pre {\n",
       "  margin: 0.2em;\n",
       "  border-radius: 0.25em;\n",
       "  color: var(--sklearn-color-text);\n",
       "  /* unfitted */\n",
       "  background-color: var(--sklearn-color-unfitted-level-0);\n",
       "}\n",
       "\n",
       "#sk-container-id-5 div.sk-toggleable__content.fitted pre {\n",
       "  /* unfitted */\n",
       "  background-color: var(--sklearn-color-fitted-level-0);\n",
       "}\n",
       "\n",
       "#sk-container-id-5 input.sk-toggleable__control:checked~div.sk-toggleable__content {\n",
       "  /* Expand drop-down */\n",
       "  max-height: 200px;\n",
       "  max-width: 100%;\n",
       "  overflow: auto;\n",
       "}\n",
       "\n",
       "#sk-container-id-5 input.sk-toggleable__control:checked~label.sk-toggleable__label-arrow:before {\n",
       "  content: \"▾\";\n",
       "}\n",
       "\n",
       "/* Pipeline/ColumnTransformer-specific style */\n",
       "\n",
       "#sk-container-id-5 div.sk-label input.sk-toggleable__control:checked~label.sk-toggleable__label {\n",
       "  color: var(--sklearn-color-text);\n",
       "  background-color: var(--sklearn-color-unfitted-level-2);\n",
       "}\n",
       "\n",
       "#sk-container-id-5 div.sk-label.fitted input.sk-toggleable__control:checked~label.sk-toggleable__label {\n",
       "  background-color: var(--sklearn-color-fitted-level-2);\n",
       "}\n",
       "\n",
       "/* Estimator-specific style */\n",
       "\n",
       "/* Colorize estimator box */\n",
       "#sk-container-id-5 div.sk-estimator input.sk-toggleable__control:checked~label.sk-toggleable__label {\n",
       "  /* unfitted */\n",
       "  background-color: var(--sklearn-color-unfitted-level-2);\n",
       "}\n",
       "\n",
       "#sk-container-id-5 div.sk-estimator.fitted input.sk-toggleable__control:checked~label.sk-toggleable__label {\n",
       "  /* fitted */\n",
       "  background-color: var(--sklearn-color-fitted-level-2);\n",
       "}\n",
       "\n",
       "#sk-container-id-5 div.sk-label label.sk-toggleable__label,\n",
       "#sk-container-id-5 div.sk-label label {\n",
       "  /* The background is the default theme color */\n",
       "  color: var(--sklearn-color-text-on-default-background);\n",
       "}\n",
       "\n",
       "/* On hover, darken the color of the background */\n",
       "#sk-container-id-5 div.sk-label:hover label.sk-toggleable__label {\n",
       "  color: var(--sklearn-color-text);\n",
       "  background-color: var(--sklearn-color-unfitted-level-2);\n",
       "}\n",
       "\n",
       "/* Label box, darken color on hover, fitted */\n",
       "#sk-container-id-5 div.sk-label.fitted:hover label.sk-toggleable__label.fitted {\n",
       "  color: var(--sklearn-color-text);\n",
       "  background-color: var(--sklearn-color-fitted-level-2);\n",
       "}\n",
       "\n",
       "/* Estimator label */\n",
       "\n",
       "#sk-container-id-5 div.sk-label label {\n",
       "  font-family: monospace;\n",
       "  font-weight: bold;\n",
       "  display: inline-block;\n",
       "  line-height: 1.2em;\n",
       "}\n",
       "\n",
       "#sk-container-id-5 div.sk-label-container {\n",
       "  text-align: center;\n",
       "}\n",
       "\n",
       "/* Estimator-specific */\n",
       "#sk-container-id-5 div.sk-estimator {\n",
       "  font-family: monospace;\n",
       "  border: 1px dotted var(--sklearn-color-border-box);\n",
       "  border-radius: 0.25em;\n",
       "  box-sizing: border-box;\n",
       "  margin-bottom: 0.5em;\n",
       "  /* unfitted */\n",
       "  background-color: var(--sklearn-color-unfitted-level-0);\n",
       "}\n",
       "\n",
       "#sk-container-id-5 div.sk-estimator.fitted {\n",
       "  /* fitted */\n",
       "  background-color: var(--sklearn-color-fitted-level-0);\n",
       "}\n",
       "\n",
       "/* on hover */\n",
       "#sk-container-id-5 div.sk-estimator:hover {\n",
       "  /* unfitted */\n",
       "  background-color: var(--sklearn-color-unfitted-level-2);\n",
       "}\n",
       "\n",
       "#sk-container-id-5 div.sk-estimator.fitted:hover {\n",
       "  /* fitted */\n",
       "  background-color: var(--sklearn-color-fitted-level-2);\n",
       "}\n",
       "\n",
       "/* Specification for estimator info (e.g. \"i\" and \"?\") */\n",
       "\n",
       "/* Common style for \"i\" and \"?\" */\n",
       "\n",
       ".sk-estimator-doc-link,\n",
       "a:link.sk-estimator-doc-link,\n",
       "a:visited.sk-estimator-doc-link {\n",
       "  float: right;\n",
       "  font-size: smaller;\n",
       "  line-height: 1em;\n",
       "  font-family: monospace;\n",
       "  background-color: var(--sklearn-color-background);\n",
       "  border-radius: 1em;\n",
       "  height: 1em;\n",
       "  width: 1em;\n",
       "  text-decoration: none !important;\n",
       "  margin-left: 1ex;\n",
       "  /* unfitted */\n",
       "  border: var(--sklearn-color-unfitted-level-1) 1pt solid;\n",
       "  color: var(--sklearn-color-unfitted-level-1);\n",
       "}\n",
       "\n",
       ".sk-estimator-doc-link.fitted,\n",
       "a:link.sk-estimator-doc-link.fitted,\n",
       "a:visited.sk-estimator-doc-link.fitted {\n",
       "  /* fitted */\n",
       "  border: var(--sklearn-color-fitted-level-1) 1pt solid;\n",
       "  color: var(--sklearn-color-fitted-level-1);\n",
       "}\n",
       "\n",
       "/* On hover */\n",
       "div.sk-estimator:hover .sk-estimator-doc-link:hover,\n",
       ".sk-estimator-doc-link:hover,\n",
       "div.sk-label-container:hover .sk-estimator-doc-link:hover,\n",
       ".sk-estimator-doc-link:hover {\n",
       "  /* unfitted */\n",
       "  background-color: var(--sklearn-color-unfitted-level-3);\n",
       "  color: var(--sklearn-color-background);\n",
       "  text-decoration: none;\n",
       "}\n",
       "\n",
       "div.sk-estimator.fitted:hover .sk-estimator-doc-link.fitted:hover,\n",
       ".sk-estimator-doc-link.fitted:hover,\n",
       "div.sk-label-container:hover .sk-estimator-doc-link.fitted:hover,\n",
       ".sk-estimator-doc-link.fitted:hover {\n",
       "  /* fitted */\n",
       "  background-color: var(--sklearn-color-fitted-level-3);\n",
       "  color: var(--sklearn-color-background);\n",
       "  text-decoration: none;\n",
       "}\n",
       "\n",
       "/* Span, style for the box shown on hovering the info icon */\n",
       ".sk-estimator-doc-link span {\n",
       "  display: none;\n",
       "  z-index: 9999;\n",
       "  position: relative;\n",
       "  font-weight: normal;\n",
       "  right: .2ex;\n",
       "  padding: .5ex;\n",
       "  margin: .5ex;\n",
       "  width: min-content;\n",
       "  min-width: 20ex;\n",
       "  max-width: 50ex;\n",
       "  color: var(--sklearn-color-text);\n",
       "  box-shadow: 2pt 2pt 4pt #999;\n",
       "  /* unfitted */\n",
       "  background: var(--sklearn-color-unfitted-level-0);\n",
       "  border: .5pt solid var(--sklearn-color-unfitted-level-3);\n",
       "}\n",
       "\n",
       ".sk-estimator-doc-link.fitted span {\n",
       "  /* fitted */\n",
       "  background: var(--sklearn-color-fitted-level-0);\n",
       "  border: var(--sklearn-color-fitted-level-3);\n",
       "}\n",
       "\n",
       ".sk-estimator-doc-link:hover span {\n",
       "  display: block;\n",
       "}\n",
       "\n",
       "/* \"?\"-specific style due to the `<a>` HTML tag */\n",
       "\n",
       "#sk-container-id-5 a.estimator_doc_link {\n",
       "  float: right;\n",
       "  font-size: 1rem;\n",
       "  line-height: 1em;\n",
       "  font-family: monospace;\n",
       "  background-color: var(--sklearn-color-background);\n",
       "  border-radius: 1rem;\n",
       "  height: 1rem;\n",
       "  width: 1rem;\n",
       "  text-decoration: none;\n",
       "  /* unfitted */\n",
       "  color: var(--sklearn-color-unfitted-level-1);\n",
       "  border: var(--sklearn-color-unfitted-level-1) 1pt solid;\n",
       "}\n",
       "\n",
       "#sk-container-id-5 a.estimator_doc_link.fitted {\n",
       "  /* fitted */\n",
       "  border: var(--sklearn-color-fitted-level-1) 1pt solid;\n",
       "  color: var(--sklearn-color-fitted-level-1);\n",
       "}\n",
       "\n",
       "/* On hover */\n",
       "#sk-container-id-5 a.estimator_doc_link:hover {\n",
       "  /* unfitted */\n",
       "  background-color: var(--sklearn-color-unfitted-level-3);\n",
       "  color: var(--sklearn-color-background);\n",
       "  text-decoration: none;\n",
       "}\n",
       "\n",
       "#sk-container-id-5 a.estimator_doc_link.fitted:hover {\n",
       "  /* fitted */\n",
       "  background-color: var(--sklearn-color-fitted-level-3);\n",
       "}\n",
       "</style><div id=\"sk-container-id-5\" class=\"sk-top-container\"><div class=\"sk-text-repr-fallback\"><pre>LinearRegression()</pre><b>In a Jupyter environment, please rerun this cell to show the HTML representation or trust the notebook. <br />On GitHub, the HTML representation is unable to render, please try loading this page with nbviewer.org.</b></div><div class=\"sk-container\" hidden><div class=\"sk-item\"><div class=\"sk-estimator fitted sk-toggleable\"><input class=\"sk-toggleable__control sk-hidden--visually\" id=\"sk-estimator-id-5\" type=\"checkbox\" checked><label for=\"sk-estimator-id-5\" class=\"sk-toggleable__label fitted sk-toggleable__label-arrow fitted\">&nbsp;&nbsp;LinearRegression<a class=\"sk-estimator-doc-link fitted\" rel=\"noreferrer\" target=\"_blank\" href=\"https://scikit-learn.org/1.5/modules/generated/sklearn.linear_model.LinearRegression.html\">?<span>Documentation for LinearRegression</span></a><span class=\"sk-estimator-doc-link fitted\">i<span>Fitted</span></span></label><div class=\"sk-toggleable__content fitted\"><pre>LinearRegression()</pre></div> </div></div></div></div>"
      ],
      "text/plain": [
       "LinearRegression()"
      ]
     },
     "execution_count": 128,
     "metadata": {},
     "output_type": "execute_result"
    }
   ],
   "source": [
    "lr_sklearn.fit(X_sklearn, Y_sklearn)"
   ]
  },
  {
   "cell_type": "code",
   "execution_count": 129,
   "metadata": {
    "colab": {
     "base_uri": "https://localhost:8080/"
    },
    "id": "LYvHrcJq6rPq",
    "outputId": "64c5e498-4f2b-4bf3-fbf8-efcaf5e4889e",
    "tags": [
     "graded"
    ]
   },
   "outputs": [
    {
     "name": "stdout",
     "output_type": "stream",
     "text": [
      "Linear regression using Scikit-Learn. Slope: [[0.04753664]]. Intercept: [7.03259355]\n"
     ]
    }
   ],
   "source": [
    "m_sklearn = lr_sklearn.coef_\n",
    "b_sklearn = lr_sklearn.intercept_\n",
    "\n",
    "print(f\"Linear regression using Scikit-Learn. Slope: {m_sklearn}. Intercept: {b_sklearn}\")"
   ]
  },
  {
   "cell_type": "markdown",
   "metadata": {
    "id": "7rx3XwED6rPq"
   },
   "source": [
    "##### __Expected Output__\n",
    "\n",
    "```Python\n",
    "Linear regression using Scikit-Learn. Slope: [[0.04753664]]. Intercept: [7.03259355]\n",
    "```"
   ]
  },
  {
   "cell_type": "code",
   "execution_count": 130,
   "metadata": {
    "colab": {
     "base_uri": "https://localhost:8080/"
    },
    "id": "RxVh7BKa6rPq",
    "outputId": "7c11e92d-978d-4c88-8ff8-d4b5a2476bfb"
   },
   "outputs": [
    {
     "name": "stdout",
     "output_type": "stream",
     "text": [
      "\u001b[92m All tests passed\n"
     ]
    }
   ],
   "source": [
    "w2_unittest.test_sklearn_fit(lr_sklearn)"
   ]
  },
  {
   "cell_type": "markdown",
   "metadata": {
    "id": "XbJwE8WC6rPr"
   },
   "source": [
    "Note that you have got the same result as with the `NumPy` function `polyfit`. Now, to make predictions it is convenient to use `Scikit-Learn` function `predict`."
   ]
  },
  {
   "cell_type": "markdown",
   "metadata": {
    "id": "VIHSnBHU6rPr"
   },
   "source": [
    "<a name='ex04'></a>\n",
    "### Exercise 4\n",
    "\n",
    "\n",
    "Increase the dimension of the $X$ array using the function `np.newaxis` (see an example above) and pass the result to the `lr_sklearn.predict` function to make predictions."
   ]
  },
  {
   "cell_type": "code",
   "execution_count": 131,
   "metadata": {
    "id": "vz1rPBC76rPr",
    "tags": []
   },
   "outputs": [],
   "source": [
    "# This is organised as a function only for grading purposes.\n",
    "def pred_sklearn(X, lr_sklearn):\n",
    "    ### START CODE HERE ### (~ 2 lines of code)\n",
    "    X_2D = X[:, np.newaxis]\n",
    "    Y = lr_sklearn.predict(X_2D)\n",
    "    ### END CODE HERE ###\n",
    "\n",
    "    return Y"
   ]
  },
  {
   "cell_type": "code",
   "execution_count": 132,
   "metadata": {
    "colab": {
     "base_uri": "https://localhost:8080/"
    },
    "id": "_v7k5vNT6rPr",
    "outputId": "c6125bcf-d58c-4929-ed79-2e1b572ed9f2",
    "tags": []
   },
   "outputs": [
    {
     "name": "stdout",
     "output_type": "stream",
     "text": [
      "TV marketing expenses:\n",
      "[ 50 120 280]\n",
      "Predictions of sales using Scikit_Learn linear regression:\n",
      "[[ 9.40942557 12.7369904  20.34285287]]\n"
     ]
    }
   ],
   "source": [
    "Y_pred_sklearn = pred_sklearn(X_pred, lr_sklearn)\n",
    "\n",
    "print(f\"TV marketing expenses:\\n{X_pred}\")\n",
    "print(f\"Predictions of sales using Scikit_Learn linear regression:\\n{Y_pred_sklearn.T}\")"
   ]
  },
  {
   "cell_type": "markdown",
   "metadata": {
    "id": "3quhRjne6rPr"
   },
   "source": [
    "##### __Expected Output__\n",
    "\n",
    "```Python\n",
    "TV marketing expenses:\n",
    "[ 50 120 280]\n",
    "Predictions of sales using Scikit_Learn linear regression:\n",
    "[[ 9.40942557 12.7369904  20.34285287]]\n",
    "```"
   ]
  },
  {
   "cell_type": "code",
   "execution_count": 133,
   "metadata": {
    "colab": {
     "base_uri": "https://localhost:8080/"
    },
    "id": "QUStlP1c6rP8",
    "outputId": "1f5f1b60-451b-4d14-c90d-fc8fcc543b9e"
   },
   "outputs": [
    {
     "name": "stdout",
     "output_type": "stream",
     "text": [
      "\u001b[92m All tests passed\n"
     ]
    }
   ],
   "source": [
    "w2_unittest.test_sklearn_predict(pred_sklearn, lr_sklearn)"
   ]
  },
  {
   "cell_type": "markdown",
   "metadata": {
    "id": "59GjuPBy6rP8"
   },
   "source": [
    "You can plot the linear regression line and the predictions by running the following code. The regression line is red and the predicted points are blue."
   ]
  },
  {
   "cell_type": "code",
   "execution_count": 134,
   "metadata": {
    "colab": {
     "base_uri": "https://localhost:8080/",
     "height": 483
    },
    "id": "Rges5Gh26rP8",
    "outputId": "b5a692de-88d5-4579-f2a8-f0099ab8cd5c",
    "tags": [
     "graded"
    ]
   },
   "outputs": [
    {
     "data": {
      "text/plain": [
       "[<matplotlib.lines.Line2D at 0x7de375be8130>]"
      ]
     },
     "execution_count": 134,
     "metadata": {},
     "output_type": "execute_result"
    },
    {
     "data": {
      "image/png": "[encoded data removed]",
      "text/plain": [
       "<Figure size 800x500 with 1 Axes>"
      ]
     },
     "metadata": {},
     "output_type": "display_data"
    }
   ],
   "source": [
    "fig, ax = plt.subplots(1,1,figsize=(8,5))\n",
    "ax.plot(X, Y, 'o', color='black')\n",
    "ax.set_xlabel('TV')\n",
    "ax.set_ylabel('Sales')\n",
    "\n",
    "ax.plot(X, m_sklearn[0][0]*X+b_sklearn[0], color='red')\n",
    "ax.plot(X_pred, Y_pred_sklearn, 'o', color='blue')"
   ]
  },
  {
   "cell_type": "markdown",
   "metadata": {
    "id": "czJF_mst6rP9"
   },
   "source": [
    "<a name='3'></a>\n",
    "## 3 - Linear Regression using Gradient Descent"
   ]
  },
  {
   "cell_type": "markdown",
   "metadata": {
    "id": "ZWUlaAA36rP9"
   },
   "source": [
    "Functions to fit the models automatically are convenient to use, but for an in-depth understanding of the model and the maths behind it is good to implement an algorithm by yourself. Let's try to find linear regression coefficients $m$ and $b$, by minimising the difference between original values $y^{(i)}$ and predicted values $\\hat{y}^{(i)}$ with the **loss function** $L\\left(w, b\\right)  = \\frac{1}{2}\\left(\\hat{y}^{(i)} - y^{(i)}\\right)^2$ for each of the training examples. Division by $2$ is taken just for scaling purposes, you will see the reason below, calculating partial derivatives.\n",
    "\n",
    "To compare the resulting vector of the predictions $\\hat{Y}$ with the vector $Y$ of original values $y^{(i)}$, you can take an average of the loss function values for each of the training examples:\n",
    "\n",
    "$$E\\left(m, b\\right) = \\frac{1}{2n}\\sum_{i=1}^{n} \\left(\\hat{y}^{(i)} - y^{(i)}\\right)^2 =\n",
    "\\frac{1}{2n}\\sum_{i=1}^{n} \\left(mx^{(i)}+b - y^{(i)}\\right)^2,\\tag{1}$$\n",
    "\n",
    "where $n$ is a number of data points. This function is called the sum of squares **cost function**. To use gradient descent algorithm, calculate partial derivatives as:\n",
    "\n",
    "\\begin{align}\n",
    "\\frac{\\partial E }{ \\partial m } &=\n",
    "\\frac{1}{n}\\sum_{i=1}^{n} \\left(mx^{(i)}+b - y^{(i)}\\right)x^{(i)},\\\\\n",
    "\\frac{\\partial E }{ \\partial b } &=\n",
    "\\frac{1}{n}\\sum_{i=1}^{n} \\left(mx^{(i)}+b - y^{(i)}\\right),\n",
    "\\tag{2}\\end{align}\n",
    "\n",
    "and update the parameters iteratively using the expressions\n",
    "\n",
    "\\begin{align}\n",
    "m &= m - \\alpha \\frac{\\partial E }{ \\partial m },\\\\\n",
    "b &= b - \\alpha \\frac{\\partial E }{ \\partial b },\n",
    "\\tag{3}\\end{align}\n",
    "\n",
    "where $\\alpha$ is the learning rate."
   ]
  },
  {
   "cell_type": "markdown",
   "metadata": {
    "id": "zCHTgH8t6rP9"
   },
   "source": [
    "Original arrays `X` and `Y` have different units. To make gradient descent algorithm efficient, you need to bring them to the same units. A common approach to it is called **normalization**: substract the mean value of the array from each of the elements in the array and divide them by standard deviation (a statistical measure of the amount of dispersion of a set of values). If you are not familiar with mean and standard deviation, do not worry about this for now - this is covered in the next Course of Specialization.\n",
    "\n",
    "Normalization is not compulsory - gradient descent would work without it. But due to different units of `X` and `Y`, the cost function will be much steeper. Then you would need to take a significantly smaller learning rate $\\alpha$, and the algorithm will require thousands of iterations to converge instead of a few dozens. Normalization helps to increase the efficiency of the gradient descent algorithm.\n",
    "\n",
    "Normalization is implemented in the following code:"
   ]
  },
  {
   "cell_type": "code",
   "execution_count": 135,
   "metadata": {
    "id": "5NNim33L6rP9",
    "tags": [
     "graded"
    ]
   },
   "outputs": [],
   "source": [
    "X_norm = (X - np.mean(X))/np.std(X)\n",
    "Y_norm = (Y - np.mean(Y))/np.std(Y)"
   ]
  },
  {
   "cell_type": "markdown",
   "metadata": {
    "id": "kCBxhhum6rP9"
   },
   "source": [
    "Define cost function according to the equation $(1)$:"
   ]
  },
  {
   "cell_type": "code",
   "execution_count": 136,
   "metadata": {
    "id": "AQ3uz1D56rP9",
    "tags": [
     "graded"
    ]
   },
   "outputs": [],
   "source": [
    "def E(m, b, X, Y):\n",
    "    ### START CODE HERE ### (~ 1 line of code)\n",
    "    res = 1/(2*len(X)) * np.sum((m*X + b - Y)**2)\n",
    "    ### END CODE HERE ###\n",
    "    return res\n"
   ]
  },
  {
   "cell_type": "markdown",
   "metadata": {
    "id": "wAvTn3LN6rP9"
   },
   "source": [
    "<a name='ex05'></a>\n",
    "### Exercise 5\n",
    "\n",
    "\n",
    "Define functions `dEdm` and `dEdb` to calculate partial derivatives according to the equations $(2)$. This can be done using vector form of the input data `X` and `Y`."
   ]
  },
  {
   "cell_type": "code",
   "execution_count": 137,
   "metadata": {
    "id": "yPOwNqSlUi7q"
   },
   "outputs": [],
   "source": [
    "def dEdm(m, b, X, Y):\n",
    "  ### START CODE HERE ### (~ 1 line of code)\n",
    "  # Use the following line as a hint, replacing all None.\n",
    "  res = np.mean(X * ((m*X + b) - Y))\n",
    "  ### END CODE HERE ###\n",
    "  return res\n",
    "\n",
    "\n",
    "def dEdb(m, b, X, Y):\n",
    "    ### START CODE HERE ### (~ 1 line of code)\n",
    "    # Replace None writing the required expression fully.\n",
    "    res = np.mean(1 * ((m*X + b) - Y))\n",
    "\n",
    "    ### END CODE HERE ###\n",
    "    return res"
   ]
  },
  {
   "cell_type": "code",
   "execution_count": 138,
   "metadata": {
    "colab": {
     "base_uri": "https://localhost:8080/"
    },
    "id": "wMPYTSM4U-ON",
    "outputId": "7618932e-f703-4dfa-bff2-97244f071999"
   },
   "outputs": [
    {
     "name": "stdout",
     "output_type": "stream",
     "text": [
      "-0.7822244248616063\n",
      "1.6431300764452317e-16\n",
      "0.21777557513839357\n",
      "5.000000000000001\n"
     ]
    }
   ],
   "source": [
    "print(dEdm(0, 0, X_norm, Y_norm))\n",
    "print(dEdb(0, 0, X_norm, Y_norm))\n",
    "print(dEdm(1, 5, X_norm, Y_norm))\n",
    "print(dEdb(1, 5, X_norm, Y_norm))"
   ]
  },
  {
   "cell_type": "markdown",
   "metadata": {
    "id": "-wvF75fE6rP-"
   },
   "source": [
    "##### __Expected Output__\n",
    "\n",
    "```Python\n",
    "-0.7822244248616067\n",
    "5.098005351200641e-16\n",
    "0.21777557513839355\n",
    "5.000000000000002\n",
    "```"
   ]
  },
  {
   "cell_type": "code",
   "execution_count": 139,
   "metadata": {
    "colab": {
     "base_uri": "https://localhost:8080/"
    },
    "id": "mn6A-bDI6rP-",
    "outputId": "ad9ce952-f082-43bc-9962-b51cb3ffa534"
   },
   "outputs": [
    {
     "name": "stdout",
     "output_type": "stream",
     "text": [
      "\u001b[92m All tests passed\n"
     ]
    }
   ],
   "source": [
    "w2_unittest.test_partial_derivatives(dEdm, dEdb, X_norm, Y_norm)"
   ]
  },
  {
   "cell_type": "markdown",
   "metadata": {
    "id": "kbAzYiHz6rP-"
   },
   "source": [
    "<a name='ex06'></a>\n",
    "### Exercise 6\n",
    "\n",
    "\n",
    "Implement gradient descent using expressions $(3)$:\n",
    "\\begin{align}\n",
    "m &= m - \\alpha \\frac{\\partial E }{ \\partial m },\\\\\n",
    "b &= b - \\alpha \\frac{\\partial E }{ \\partial b },\n",
    "\\end{align}\n",
    "\n",
    "where $\\alpha$ is the `learning_rate`."
   ]
  },
  {
   "cell_type": "code",
   "execution_count": 140,
   "metadata": {
    "id": "QXYv_2l_6rP-",
    "tags": [
     "graded"
    ]
   },
   "outputs": [],
   "source": [
    "def gradient_descent(dEdm, dEdb, m, b, X, Y, learning_rate = 0.001, num_iterations = 1000, print_cost=False):\n",
    "    for iteration in range(num_iterations):\n",
    "        ### START CODE HERE ### (~ 2 lines of code)\n",
    "        m_new = m - learning_rate * dEdm(m, b, X, Y)\n",
    "        b_new = b - learning_rate * dEdb(m, b, X, Y)\n",
    "        ### END CODE HERE ###\n",
    "        m = m_new\n",
    "        b = b_new\n",
    "        if print_cost:\n",
    "            print (f\"Cost after iteration {iteration}: {E(m, b, X, Y)}\")\n",
    "\n",
    "    return m, b"
   ]
  },
  {
   "cell_type": "code",
   "execution_count": 141,
   "metadata": {
    "colab": {
     "base_uri": "https://localhost:8080/"
    },
    "id": "WfpdIElY6rP-",
    "outputId": "0a12910c-cafd-45d3-b71f-cf9ccceda7ec",
    "tags": [
     "graded"
    ]
   },
   "outputs": [
    {
     "name": "stdout",
     "output_type": "stream",
     "text": [
      "(0.49460408269589484, -1.3756551453525337e-16)\n",
      "(0.9791767513915026, 4.521910375044022)\n"
     ]
    }
   ],
   "source": [
    "print(gradient_descent(dEdm, dEdb, 0, 0, X_norm, Y_norm))\n",
    "print(gradient_descent(dEdm, dEdb, 1, 5, X_norm, Y_norm, learning_rate = 0.01, num_iterations = 10))"
   ]
  },
  {
   "cell_type": "markdown",
   "metadata": {
    "id": "NmAdIeun6rP_"
   },
   "source": [
    "##### __Expected Output__\n",
    "\n",
    "```Python\n",
    "(0.49460408269589495, -3.489285249624889e-16)\n",
    "(0.9791767513915026, 4.521910375044022)\n",
    "```"
   ]
  },
  {
   "cell_type": "code",
   "execution_count": 142,
   "metadata": {
    "colab": {
     "base_uri": "https://localhost:8080/"
    },
    "id": "bsqAoog36rP_",
    "outputId": "ab600fe1-4ada-4fc4-da7c-dcded91da600"
   },
   "outputs": [
    {
     "name": "stdout",
     "output_type": "stream",
     "text": [
      "\u001b[92m All tests passed\n"
     ]
    }
   ],
   "source": [
    "w2_unittest.test_gradient_descent(gradient_descent, dEdm, dEdb, X_norm, Y_norm)"
   ]
  },
  {
   "cell_type": "markdown",
   "metadata": {
    "id": "9WQKNwAy6rP_"
   },
   "source": [
    "Now run the gradient descent method starting from the initial point $\\left(m_0, b_0\\right)=\\left(0, 0\\right)$."
   ]
  },
  {
   "cell_type": "code",
   "execution_count": 143,
   "metadata": {
    "colab": {
     "base_uri": "https://localhost:8080/"
    },
    "collapsed": true,
    "id": "Q6Sp5UuW6rP_",
    "outputId": "09cea82d-ce48-4d25-ec7f-f7396c3b3b1c",
    "tags": [
     "graded"
    ]
   },
   "outputs": [
    {
     "name": "stdout",
     "output_type": "stream",
     "text": [
      "Cost after iteration 0: 0.2062999755919659\n",
      "Cost after iteration 1: 0.19455197461564464\n",
      "Cost after iteration 2: 0.19408205457659175\n",
      "Cost after iteration 3: 0.19406325777502964\n",
      "Cost after iteration 4: 0.19406250590296714\n",
      "Cost after iteration 5: 0.1940624758280847\n",
      "Cost after iteration 6: 0.19406247462508938\n",
      "Cost after iteration 7: 0.19406247457696957\n",
      "Cost after iteration 8: 0.19406247457504477\n",
      "Cost after iteration 9: 0.19406247457496775\n",
      "Cost after iteration 10: 0.1940624745749647\n",
      "Cost after iteration 11: 0.19406247457496456\n",
      "Cost after iteration 12: 0.19406247457496456\n",
      "Cost after iteration 13: 0.1940624745749646\n",
      "Cost after iteration 14: 0.19406247457496456\n",
      "Cost after iteration 15: 0.19406247457496456\n",
      "Cost after iteration 16: 0.19406247457496456\n",
      "Cost after iteration 17: 0.19406247457496456\n",
      "Cost after iteration 18: 0.19406247457496456\n",
      "Cost after iteration 19: 0.19406247457496456\n",
      "Cost after iteration 20: 0.19406247457496456\n",
      "Cost after iteration 21: 0.19406247457496456\n",
      "Cost after iteration 22: 0.19406247457496456\n",
      "Cost after iteration 23: 0.19406247457496456\n",
      "Cost after iteration 24: 0.19406247457496456\n",
      "Cost after iteration 25: 0.19406247457496456\n",
      "Cost after iteration 26: 0.19406247457496456\n",
      "Cost after iteration 27: 0.19406247457496456\n",
      "Cost after iteration 28: 0.19406247457496456\n",
      "Cost after iteration 29: 0.19406247457496456\n",
      "Cost after iteration 30: 0.19406247457496456\n",
      "Cost after iteration 31: 0.19406247457496456\n",
      "Cost after iteration 32: 0.19406247457496456\n",
      "Cost after iteration 33: 0.19406247457496456\n",
      "Cost after iteration 34: 0.19406247457496456\n",
      "Cost after iteration 35: 0.19406247457496456\n",
      "Cost after iteration 36: 0.19406247457496456\n",
      "Cost after iteration 37: 0.19406247457496456\n",
      "Cost after iteration 38: 0.19406247457496456\n",
      "Cost after iteration 39: 0.19406247457496456\n",
      "Cost after iteration 40: 0.19406247457496456\n",
      "Cost after iteration 41: 0.19406247457496456\n",
      "Cost after iteration 42: 0.19406247457496456\n",
      "Cost after iteration 43: 0.19406247457496456\n",
      "Cost after iteration 44: 0.19406247457496456\n",
      "Cost after iteration 45: 0.19406247457496456\n",
      "Cost after iteration 46: 0.19406247457496456\n",
      "Cost after iteration 47: 0.19406247457496456\n",
      "Cost after iteration 48: 0.19406247457496456\n",
      "Cost after iteration 49: 0.19406247457496456\n",
      "Cost after iteration 50: 0.19406247457496456\n",
      "Cost after iteration 51: 0.19406247457496456\n",
      "Cost after iteration 52: 0.19406247457496456\n",
      "Cost after iteration 53: 0.19406247457496456\n",
      "Cost after iteration 54: 0.19406247457496456\n",
      "Cost after iteration 55: 0.19406247457496456\n",
      "Cost after iteration 56: 0.19406247457496456\n",
      "Cost after iteration 57: 0.19406247457496456\n",
      "Cost after iteration 58: 0.19406247457496456\n",
      "Cost after iteration 59: 0.19406247457496456\n",
      "Cost after iteration 60: 0.19406247457496456\n",
      "Cost after iteration 61: 0.19406247457496456\n",
      "Cost after iteration 62: 0.19406247457496456\n",
      "Cost after iteration 63: 0.19406247457496456\n",
      "Cost after iteration 64: 0.19406247457496456\n",
      "Cost after iteration 65: 0.19406247457496456\n",
      "Cost after iteration 66: 0.19406247457496456\n",
      "Cost after iteration 67: 0.19406247457496456\n",
      "Cost after iteration 68: 0.19406247457496456\n",
      "Cost after iteration 69: 0.19406247457496456\n",
      "Cost after iteration 70: 0.19406247457496456\n",
      "Cost after iteration 71: 0.19406247457496456\n",
      "Cost after iteration 72: 0.19406247457496456\n",
      "Cost after iteration 73: 0.19406247457496456\n",
      "Cost after iteration 74: 0.19406247457496456\n",
      "Cost after iteration 75: 0.19406247457496456\n",
      "Cost after iteration 76: 0.19406247457496456\n",
      "Cost after iteration 77: 0.19406247457496456\n",
      "Cost after iteration 78: 0.19406247457496456\n",
      "Cost after iteration 79: 0.19406247457496456\n",
      "Cost after iteration 80: 0.19406247457496456\n",
      "Cost after iteration 81: 0.19406247457496456\n",
      "Cost after iteration 82: 0.19406247457496456\n",
      "Cost after iteration 83: 0.19406247457496456\n",
      "Cost after iteration 84: 0.19406247457496456\n",
      "Cost after iteration 85: 0.19406247457496456\n",
      "Cost after iteration 86: 0.19406247457496456\n",
      "Cost after iteration 87: 0.19406247457496456\n",
      "Cost after iteration 88: 0.19406247457496456\n",
      "Cost after iteration 89: 0.19406247457496456\n",
      "Cost after iteration 90: 0.19406247457496456\n",
      "Cost after iteration 91: 0.19406247457496456\n",
      "Cost after iteration 92: 0.19406247457496456\n",
      "Cost after iteration 93: 0.19406247457496456\n",
      "Cost after iteration 94: 0.19406247457496456\n",
      "Cost after iteration 95: 0.19406247457496456\n",
      "Cost after iteration 96: 0.19406247457496456\n",
      "Cost after iteration 97: 0.19406247457496456\n",
      "Cost after iteration 98: 0.19406247457496456\n",
      "Cost after iteration 99: 0.19406247457496456\n",
      "Cost after iteration 100: 0.19406247457496456\n",
      "Cost after iteration 101: 0.19406247457496456\n",
      "Cost after iteration 102: 0.19406247457496456\n",
      "Cost after iteration 103: 0.19406247457496456\n",
      "Cost after iteration 104: 0.19406247457496456\n",
      "Cost after iteration 105: 0.19406247457496456\n",
      "Cost after iteration 106: 0.19406247457496456\n",
      "Cost after iteration 107: 0.19406247457496456\n",
      "Cost after iteration 108: 0.19406247457496456\n",
      "Cost after iteration 109: 0.19406247457496456\n",
      "Cost after iteration 110: 0.19406247457496456\n",
      "Cost after iteration 111: 0.19406247457496456\n",
      "Cost after iteration 112: 0.19406247457496456\n",
      "Cost after iteration 113: 0.19406247457496456\n",
      "Cost after iteration 114: 0.19406247457496456\n",
      "Cost after iteration 115: 0.19406247457496456\n",
      "Cost after iteration 116: 0.19406247457496456\n",
      "Cost after iteration 117: 0.19406247457496456\n",
      "Cost after iteration 118: 0.19406247457496456\n",
      "Cost after iteration 119: 0.19406247457496456\n",
      "Cost after iteration 120: 0.19406247457496456\n",
      "Cost after iteration 121: 0.19406247457496456\n",
      "Cost after iteration 122: 0.19406247457496456\n",
      "Cost after iteration 123: 0.19406247457496456\n",
      "Cost after iteration 124: 0.19406247457496456\n",
      "Cost after iteration 125: 0.19406247457496456\n",
      "Cost after iteration 126: 0.19406247457496456\n",
      "Cost after iteration 127: 0.19406247457496456\n",
      "Cost after iteration 128: 0.19406247457496456\n",
      "Cost after iteration 129: 0.19406247457496456\n",
      "Cost after iteration 130: 0.19406247457496456\n",
      "Cost after iteration 131: 0.19406247457496456\n",
      "Cost after iteration 132: 0.19406247457496456\n",
      "Cost after iteration 133: 0.19406247457496456\n",
      "Cost after iteration 134: 0.19406247457496456\n",
      "Cost after iteration 135: 0.19406247457496456\n",
      "Cost after iteration 136: 0.19406247457496456\n",
      "Cost after iteration 137: 0.19406247457496456\n",
      "Cost after iteration 138: 0.19406247457496456\n",
      "Cost after iteration 139: 0.19406247457496456\n",
      "Cost after iteration 140: 0.19406247457496456\n",
      "Cost after iteration 141: 0.19406247457496456\n",
      "Cost after iteration 142: 0.19406247457496456\n",
      "Cost after iteration 143: 0.19406247457496456\n",
      "Cost after iteration 144: 0.19406247457496456\n",
      "Cost after iteration 145: 0.19406247457496456\n",
      "Cost after iteration 146: 0.19406247457496456\n",
      "Cost after iteration 147: 0.19406247457496456\n",
      "Cost after iteration 148: 0.19406247457496456\n",
      "Cost after iteration 149: 0.19406247457496456\n",
      "Cost after iteration 150: 0.19406247457496456\n",
      "Cost after iteration 151: 0.19406247457496456\n",
      "Cost after iteration 152: 0.19406247457496456\n",
      "Cost after iteration 153: 0.19406247457496456\n",
      "Cost after iteration 154: 0.19406247457496456\n",
      "Cost after iteration 155: 0.19406247457496456\n",
      "Cost after iteration 156: 0.19406247457496456\n",
      "Cost after iteration 157: 0.19406247457496456\n",
      "Cost after iteration 158: 0.19406247457496456\n",
      "Cost after iteration 159: 0.19406247457496456\n",
      "Cost after iteration 160: 0.19406247457496456\n",
      "Cost after iteration 161: 0.19406247457496456\n",
      "Cost after iteration 162: 0.19406247457496456\n",
      "Cost after iteration 163: 0.19406247457496456\n",
      "Cost after iteration 164: 0.19406247457496456\n",
      "Cost after iteration 165: 0.19406247457496456\n",
      "Cost after iteration 166: 0.19406247457496456\n",
      "Cost after iteration 167: 0.19406247457496456\n",
      "Cost after iteration 168: 0.19406247457496456\n",
      "Cost after iteration 169: 0.19406247457496456\n",
      "Cost after iteration 170: 0.19406247457496456\n",
      "Cost after iteration 171: 0.19406247457496456\n",
      "Cost after iteration 172: 0.19406247457496456\n",
      "Cost after iteration 173: 0.19406247457496456\n",
      "Cost after iteration 174: 0.19406247457496456\n",
      "Cost after iteration 175: 0.19406247457496456\n",
      "Cost after iteration 176: 0.19406247457496456\n",
      "Cost after iteration 177: 0.19406247457496456\n",
      "Cost after iteration 178: 0.19406247457496456\n",
      "Cost after iteration 179: 0.19406247457496456\n",
      "Cost after iteration 180: 0.19406247457496456\n",
      "Cost after iteration 181: 0.19406247457496456\n",
      "Cost after iteration 182: 0.19406247457496456\n",
      "Cost after iteration 183: 0.19406247457496456\n",
      "Cost after iteration 184: 0.19406247457496456\n",
      "Cost after iteration 185: 0.19406247457496456\n",
      "Cost after iteration 186: 0.19406247457496456\n",
      "Cost after iteration 187: 0.19406247457496456\n",
      "Cost after iteration 188: 0.19406247457496456\n",
      "Cost after iteration 189: 0.19406247457496456\n",
      "Cost after iteration 190: 0.19406247457496456\n",
      "Cost after iteration 191: 0.19406247457496456\n",
      "Cost after iteration 192: 0.19406247457496456\n",
      "Cost after iteration 193: 0.19406247457496456\n",
      "Cost after iteration 194: 0.19406247457496456\n",
      "Cost after iteration 195: 0.19406247457496456\n",
      "Cost after iteration 196: 0.19406247457496456\n",
      "Cost after iteration 197: 0.19406247457496456\n",
      "Cost after iteration 198: 0.19406247457496456\n",
      "Cost after iteration 199: 0.19406247457496456\n",
      "Cost after iteration 200: 0.19406247457496456\n",
      "Cost after iteration 201: 0.19406247457496456\n",
      "Cost after iteration 202: 0.19406247457496456\n",
      "Cost after iteration 203: 0.19406247457496456\n",
      "Cost after iteration 204: 0.19406247457496456\n",
      "Cost after iteration 205: 0.19406247457496456\n",
      "Cost after iteration 206: 0.19406247457496456\n",
      "Cost after iteration 207: 0.19406247457496456\n",
      "Cost after iteration 208: 0.19406247457496456\n",
      "Cost after iteration 209: 0.19406247457496456\n",
      "Cost after iteration 210: 0.19406247457496456\n",
      "Cost after iteration 211: 0.19406247457496456\n",
      "Cost after iteration 212: 0.19406247457496456\n",
      "Cost after iteration 213: 0.19406247457496456\n",
      "Cost after iteration 214: 0.19406247457496456\n",
      "Cost after iteration 215: 0.19406247457496456\n",
      "Cost after iteration 216: 0.19406247457496456\n",
      "Cost after iteration 217: 0.19406247457496456\n",
      "Cost after iteration 218: 0.19406247457496456\n",
      "Cost after iteration 219: 0.19406247457496456\n",
      "Cost after iteration 220: 0.19406247457496456\n",
      "Cost after iteration 221: 0.19406247457496456\n",
      "Cost after iteration 222: 0.19406247457496456\n",
      "Cost after iteration 223: 0.19406247457496456\n",
      "Cost after iteration 224: 0.19406247457496456\n",
      "Cost after iteration 225: 0.19406247457496456\n",
      "Cost after iteration 226: 0.19406247457496456\n",
      "Cost after iteration 227: 0.19406247457496456\n",
      "Cost after iteration 228: 0.19406247457496456\n",
      "Cost after iteration 229: 0.19406247457496456\n",
      "Cost after iteration 230: 0.19406247457496456\n",
      "Cost after iteration 231: 0.19406247457496456\n",
      "Cost after iteration 232: 0.19406247457496456\n",
      "Cost after iteration 233: 0.19406247457496456\n",
      "Cost after iteration 234: 0.19406247457496456\n",
      "Cost after iteration 235: 0.19406247457496456\n",
      "Cost after iteration 236: 0.19406247457496456\n",
      "Cost after iteration 237: 0.19406247457496456\n",
      "Cost after iteration 238: 0.19406247457496456\n",
      "Cost after iteration 239: 0.19406247457496456\n",
      "Cost after iteration 240: 0.19406247457496456\n",
      "Cost after iteration 241: 0.19406247457496456\n",
      "Cost after iteration 242: 0.19406247457496456\n",
      "Cost after iteration 243: 0.19406247457496456\n",
      "Cost after iteration 244: 0.19406247457496456\n",
      "Cost after iteration 245: 0.19406247457496456\n",
      "Cost after iteration 246: 0.19406247457496456\n",
      "Cost after iteration 247: 0.19406247457496456\n",
      "Cost after iteration 248: 0.19406247457496456\n",
      "Cost after iteration 249: 0.19406247457496456\n",
      "Cost after iteration 250: 0.19406247457496456\n",
      "Cost after iteration 251: 0.19406247457496456\n",
      "Cost after iteration 252: 0.19406247457496456\n",
      "Cost after iteration 253: 0.19406247457496456\n",
      "Cost after iteration 254: 0.19406247457496456\n",
      "Cost after iteration 255: 0.19406247457496456\n",
      "Cost after iteration 256: 0.19406247457496456\n",
      "Cost after iteration 257: 0.19406247457496456\n",
      "Cost after iteration 258: 0.19406247457496456\n",
      "Cost after iteration 259: 0.19406247457496456\n",
      "Cost after iteration 260: 0.19406247457496456\n",
      "Cost after iteration 261: 0.19406247457496456\n",
      "Cost after iteration 262: 0.19406247457496456\n",
      "Cost after iteration 263: 0.19406247457496456\n",
      "Cost after iteration 264: 0.19406247457496456\n",
      "Cost after iteration 265: 0.19406247457496456\n",
      "Cost after iteration 266: 0.19406247457496456\n",
      "Cost after iteration 267: 0.19406247457496456\n",
      "Cost after iteration 268: 0.19406247457496456\n",
      "Cost after iteration 269: 0.19406247457496456\n",
      "Cost after iteration 270: 0.19406247457496456\n",
      "Cost after iteration 271: 0.19406247457496456\n",
      "Cost after iteration 272: 0.19406247457496456\n",
      "Cost after iteration 273: 0.19406247457496456\n",
      "Cost after iteration 274: 0.19406247457496456\n",
      "Cost after iteration 275: 0.19406247457496456\n",
      "Cost after iteration 276: 0.19406247457496456\n",
      "Cost after iteration 277: 0.19406247457496456\n",
      "Cost after iteration 278: 0.19406247457496456\n",
      "Cost after iteration 279: 0.19406247457496456\n",
      "Cost after iteration 280: 0.19406247457496456\n",
      "Cost after iteration 281: 0.19406247457496456\n",
      "Cost after iteration 282: 0.19406247457496456\n",
      "Cost after iteration 283: 0.19406247457496456\n",
      "Cost after iteration 284: 0.19406247457496456\n",
      "Cost after iteration 285: 0.19406247457496456\n",
      "Cost after iteration 286: 0.19406247457496456\n",
      "Cost after iteration 287: 0.19406247457496456\n",
      "Cost after iteration 288: 0.19406247457496456\n",
      "Cost after iteration 289: 0.19406247457496456\n",
      "Cost after iteration 290: 0.19406247457496456\n",
      "Cost after iteration 291: 0.19406247457496456\n",
      "Cost after iteration 292: 0.19406247457496456\n",
      "Cost after iteration 293: 0.19406247457496456\n",
      "Cost after iteration 294: 0.19406247457496456\n",
      "Cost after iteration 295: 0.19406247457496456\n",
      "Cost after iteration 296: 0.19406247457496456\n",
      "Cost after iteration 297: 0.19406247457496456\n",
      "Cost after iteration 298: 0.19406247457496456\n",
      "Cost after iteration 299: 0.19406247457496456\n",
      "Cost after iteration 300: 0.19406247457496456\n",
      "Cost after iteration 301: 0.19406247457496456\n",
      "Cost after iteration 302: 0.19406247457496456\n",
      "Cost after iteration 303: 0.19406247457496456\n",
      "Cost after iteration 304: 0.19406247457496456\n",
      "Cost after iteration 305: 0.19406247457496456\n",
      "Cost after iteration 306: 0.19406247457496456\n",
      "Cost after iteration 307: 0.19406247457496456\n",
      "Cost after iteration 308: 0.19406247457496456\n",
      "Cost after iteration 309: 0.19406247457496456\n",
      "Cost after iteration 310: 0.19406247457496456\n",
      "Cost after iteration 311: 0.19406247457496456\n",
      "Cost after iteration 312: 0.19406247457496456\n",
      "Cost after iteration 313: 0.19406247457496456\n",
      "Cost after iteration 314: 0.19406247457496456\n",
      "Cost after iteration 315: 0.19406247457496456\n",
      "Cost after iteration 316: 0.19406247457496456\n",
      "Cost after iteration 317: 0.19406247457496456\n",
      "Cost after iteration 318: 0.19406247457496456\n",
      "Cost after iteration 319: 0.19406247457496456\n",
      "Cost after iteration 320: 0.19406247457496456\n",
      "Cost after iteration 321: 0.19406247457496456\n",
      "Cost after iteration 322: 0.19406247457496456\n",
      "Cost after iteration 323: 0.19406247457496456\n",
      "Cost after iteration 324: 0.19406247457496456\n",
      "Cost after iteration 325: 0.19406247457496456\n",
      "Cost after iteration 326: 0.19406247457496456\n",
      "Cost after iteration 327: 0.19406247457496456\n",
      "Cost after iteration 328: 0.19406247457496456\n",
      "Cost after iteration 329: 0.19406247457496456\n",
      "Cost after iteration 330: 0.19406247457496456\n",
      "Cost after iteration 331: 0.19406247457496456\n",
      "Cost after iteration 332: 0.19406247457496456\n",
      "Cost after iteration 333: 0.19406247457496456\n",
      "Cost after iteration 334: 0.19406247457496456\n",
      "Cost after iteration 335: 0.19406247457496456\n",
      "Cost after iteration 336: 0.19406247457496456\n",
      "Cost after iteration 337: 0.19406247457496456\n",
      "Cost after iteration 338: 0.19406247457496456\n",
      "Cost after iteration 339: 0.19406247457496456\n",
      "Cost after iteration 340: 0.19406247457496456\n",
      "Cost after iteration 341: 0.19406247457496456\n",
      "Cost after iteration 342: 0.19406247457496456\n",
      "Cost after iteration 343: 0.19406247457496456\n",
      "Cost after iteration 344: 0.19406247457496456\n",
      "Cost after iteration 345: 0.19406247457496456\n",
      "Cost after iteration 346: 0.19406247457496456\n",
      "Cost after iteration 347: 0.19406247457496456\n",
      "Cost after iteration 348: 0.19406247457496456\n",
      "Cost after iteration 349: 0.19406247457496456\n",
      "Cost after iteration 350: 0.19406247457496456\n",
      "Cost after iteration 351: 0.19406247457496456\n",
      "Cost after iteration 352: 0.19406247457496456\n",
      "Cost after iteration 353: 0.19406247457496456\n",
      "Cost after iteration 354: 0.19406247457496456\n",
      "Cost after iteration 355: 0.19406247457496456\n",
      "Cost after iteration 356: 0.19406247457496456\n",
      "Cost after iteration 357: 0.19406247457496456\n",
      "Cost after iteration 358: 0.19406247457496456\n",
      "Cost after iteration 359: 0.19406247457496456\n",
      "Cost after iteration 360: 0.19406247457496456\n",
      "Cost after iteration 361: 0.19406247457496456\n",
      "Cost after iteration 362: 0.19406247457496456\n",
      "Cost after iteration 363: 0.19406247457496456\n",
      "Cost after iteration 364: 0.19406247457496456\n",
      "Cost after iteration 365: 0.19406247457496456\n",
      "Cost after iteration 366: 0.19406247457496456\n",
      "Cost after iteration 367: 0.19406247457496456\n",
      "Cost after iteration 368: 0.19406247457496456\n",
      "Cost after iteration 369: 0.19406247457496456\n",
      "Cost after iteration 370: 0.19406247457496456\n",
      "Cost after iteration 371: 0.19406247457496456\n",
      "Cost after iteration 372: 0.19406247457496456\n",
      "Cost after iteration 373: 0.19406247457496456\n",
      "Cost after iteration 374: 0.19406247457496456\n",
      "Cost after iteration 375: 0.19406247457496456\n",
      "Cost after iteration 376: 0.19406247457496456\n",
      "Cost after iteration 377: 0.19406247457496456\n",
      "Cost after iteration 378: 0.19406247457496456\n",
      "Cost after iteration 379: 0.19406247457496456\n",
      "Cost after iteration 380: 0.19406247457496456\n",
      "Cost after iteration 381: 0.19406247457496456\n",
      "Cost after iteration 382: 0.19406247457496456\n",
      "Cost after iteration 383: 0.19406247457496456\n",
      "Cost after iteration 384: 0.19406247457496456\n",
      "Cost after iteration 385: 0.19406247457496456\n",
      "Cost after iteration 386: 0.19406247457496456\n",
      "Cost after iteration 387: 0.19406247457496456\n",
      "Cost after iteration 388: 0.19406247457496456\n",
      "Cost after iteration 389: 0.19406247457496456\n",
      "Cost after iteration 390: 0.19406247457496456\n",
      "Cost after iteration 391: 0.19406247457496456\n",
      "Cost after iteration 392: 0.19406247457496456\n",
      "Cost after iteration 393: 0.19406247457496456\n",
      "Cost after iteration 394: 0.19406247457496456\n",
      "Cost after iteration 395: 0.19406247457496456\n",
      "Cost after iteration 396: 0.19406247457496456\n",
      "Cost after iteration 397: 0.19406247457496456\n",
      "Cost after iteration 398: 0.19406247457496456\n",
      "Cost after iteration 399: 0.19406247457496456\n",
      "Cost after iteration 400: 0.19406247457496456\n",
      "Cost after iteration 401: 0.19406247457496456\n",
      "Cost after iteration 402: 0.19406247457496456\n",
      "Cost after iteration 403: 0.19406247457496456\n",
      "Cost after iteration 404: 0.19406247457496456\n",
      "Cost after iteration 405: 0.19406247457496456\n",
      "Cost after iteration 406: 0.19406247457496456\n",
      "Cost after iteration 407: 0.19406247457496456\n",
      "Cost after iteration 408: 0.19406247457496456\n",
      "Cost after iteration 409: 0.19406247457496456\n",
      "Cost after iteration 410: 0.19406247457496456\n",
      "Cost after iteration 411: 0.19406247457496456\n",
      "Cost after iteration 412: 0.19406247457496456\n",
      "Cost after iteration 413: 0.19406247457496456\n",
      "Cost after iteration 414: 0.19406247457496456\n",
      "Cost after iteration 415: 0.19406247457496456\n",
      "Cost after iteration 416: 0.19406247457496456\n",
      "Cost after iteration 417: 0.19406247457496456\n",
      "Cost after iteration 418: 0.19406247457496456\n",
      "Cost after iteration 419: 0.19406247457496456\n",
      "Cost after iteration 420: 0.19406247457496456\n",
      "Cost after iteration 421: 0.19406247457496456\n",
      "Cost after iteration 422: 0.19406247457496456\n",
      "Cost after iteration 423: 0.19406247457496456\n",
      "Cost after iteration 424: 0.19406247457496456\n",
      "Cost after iteration 425: 0.19406247457496456\n",
      "Cost after iteration 426: 0.19406247457496456\n",
      "Cost after iteration 427: 0.19406247457496456\n",
      "Cost after iteration 428: 0.19406247457496456\n",
      "Cost after iteration 429: 0.19406247457496456\n",
      "Cost after iteration 430: 0.19406247457496456\n",
      "Cost after iteration 431: 0.19406247457496456\n",
      "Cost after iteration 432: 0.19406247457496456\n",
      "Cost after iteration 433: 0.19406247457496456\n",
      "Cost after iteration 434: 0.19406247457496456\n",
      "Cost after iteration 435: 0.19406247457496456\n",
      "Cost after iteration 436: 0.19406247457496456\n",
      "Cost after iteration 437: 0.19406247457496456\n",
      "Cost after iteration 438: 0.19406247457496456\n",
      "Cost after iteration 439: 0.19406247457496456\n",
      "Cost after iteration 440: 0.19406247457496456\n",
      "Cost after iteration 441: 0.19406247457496456\n",
      "Cost after iteration 442: 0.19406247457496456\n",
      "Cost after iteration 443: 0.19406247457496456\n",
      "Cost after iteration 444: 0.19406247457496456\n",
      "Cost after iteration 445: 0.19406247457496456\n",
      "Cost after iteration 446: 0.19406247457496456\n",
      "Cost after iteration 447: 0.19406247457496456\n",
      "Cost after iteration 448: 0.19406247457496456\n",
      "Cost after iteration 449: 0.19406247457496456\n",
      "Cost after iteration 450: 0.19406247457496456\n",
      "Cost after iteration 451: 0.19406247457496456\n",
      "Cost after iteration 452: 0.19406247457496456\n",
      "Cost after iteration 453: 0.19406247457496456\n",
      "Cost after iteration 454: 0.19406247457496456\n",
      "Cost after iteration 455: 0.19406247457496456\n",
      "Cost after iteration 456: 0.19406247457496456\n",
      "Cost after iteration 457: 0.19406247457496456\n",
      "Cost after iteration 458: 0.19406247457496456\n",
      "Cost after iteration 459: 0.19406247457496456\n",
      "Cost after iteration 460: 0.19406247457496456\n",
      "Cost after iteration 461: 0.19406247457496456\n",
      "Cost after iteration 462: 0.19406247457496456\n",
      "Cost after iteration 463: 0.19406247457496456\n",
      "Cost after iteration 464: 0.19406247457496456\n",
      "Cost after iteration 465: 0.19406247457496456\n",
      "Cost after iteration 466: 0.19406247457496456\n",
      "Cost after iteration 467: 0.19406247457496456\n",
      "Cost after iteration 468: 0.19406247457496456\n",
      "Cost after iteration 469: 0.19406247457496456\n",
      "Cost after iteration 470: 0.19406247457496456\n",
      "Cost after iteration 471: 0.19406247457496456\n",
      "Cost after iteration 472: 0.19406247457496456\n",
      "Cost after iteration 473: 0.19406247457496456\n",
      "Cost after iteration 474: 0.19406247457496456\n",
      "Cost after iteration 475: 0.19406247457496456\n",
      "Cost after iteration 476: 0.19406247457496456\n",
      "Cost after iteration 477: 0.19406247457496456\n",
      "Cost after iteration 478: 0.19406247457496456\n",
      "Cost after iteration 479: 0.19406247457496456\n",
      "Cost after iteration 480: 0.19406247457496456\n",
      "Cost after iteration 481: 0.19406247457496456\n",
      "Cost after iteration 482: 0.19406247457496456\n",
      "Cost after iteration 483: 0.19406247457496456\n",
      "Cost after iteration 484: 0.19406247457496456\n",
      "Cost after iteration 485: 0.19406247457496456\n",
      "Cost after iteration 486: 0.19406247457496456\n",
      "Cost after iteration 487: 0.19406247457496456\n",
      "Cost after iteration 488: 0.19406247457496456\n",
      "Cost after iteration 489: 0.19406247457496456\n",
      "Cost after iteration 490: 0.19406247457496456\n",
      "Cost after iteration 491: 0.19406247457496456\n",
      "Cost after iteration 492: 0.19406247457496456\n",
      "Cost after iteration 493: 0.19406247457496456\n",
      "Cost after iteration 494: 0.19406247457496456\n",
      "Cost after iteration 495: 0.19406247457496456\n",
      "Cost after iteration 496: 0.19406247457496456\n",
      "Cost after iteration 497: 0.19406247457496456\n",
      "Cost after iteration 498: 0.19406247457496456\n",
      "Cost after iteration 499: 0.19406247457496456\n",
      "Cost after iteration 500: 0.19406247457496456\n",
      "Cost after iteration 501: 0.19406247457496456\n",
      "Cost after iteration 502: 0.19406247457496456\n",
      "Cost after iteration 503: 0.19406247457496456\n",
      "Cost after iteration 504: 0.19406247457496456\n",
      "Cost after iteration 505: 0.19406247457496456\n",
      "Cost after iteration 506: 0.19406247457496456\n",
      "Cost after iteration 507: 0.19406247457496456\n",
      "Cost after iteration 508: 0.19406247457496456\n",
      "Cost after iteration 509: 0.19406247457496456\n",
      "Cost after iteration 510: 0.19406247457496456\n",
      "Cost after iteration 511: 0.19406247457496456\n",
      "Cost after iteration 512: 0.19406247457496456\n",
      "Cost after iteration 513: 0.19406247457496456\n",
      "Cost after iteration 514: 0.19406247457496456\n",
      "Cost after iteration 515: 0.19406247457496456\n",
      "Cost after iteration 516: 0.19406247457496456\n",
      "Cost after iteration 517: 0.19406247457496456\n",
      "Cost after iteration 518: 0.19406247457496456\n",
      "Cost after iteration 519: 0.19406247457496456\n",
      "Cost after iteration 520: 0.19406247457496456\n",
      "Cost after iteration 521: 0.19406247457496456\n",
      "Cost after iteration 522: 0.19406247457496456\n",
      "Cost after iteration 523: 0.19406247457496456\n",
      "Cost after iteration 524: 0.19406247457496456\n",
      "Cost after iteration 525: 0.19406247457496456\n",
      "Cost after iteration 526: 0.19406247457496456\n",
      "Cost after iteration 527: 0.19406247457496456\n",
      "Cost after iteration 528: 0.19406247457496456\n",
      "Cost after iteration 529: 0.19406247457496456\n",
      "Cost after iteration 530: 0.19406247457496456\n",
      "Cost after iteration 531: 0.19406247457496456\n",
      "Cost after iteration 532: 0.19406247457496456\n",
      "Cost after iteration 533: 0.19406247457496456\n",
      "Cost after iteration 534: 0.19406247457496456\n",
      "Cost after iteration 535: 0.19406247457496456\n",
      "Cost after iteration 536: 0.19406247457496456\n",
      "Cost after iteration 537: 0.19406247457496456\n",
      "Cost after iteration 538: 0.19406247457496456\n",
      "Cost after iteration 539: 0.19406247457496456\n",
      "Cost after iteration 540: 0.19406247457496456\n",
      "Cost after iteration 541: 0.19406247457496456\n",
      "Cost after iteration 542: 0.19406247457496456\n",
      "Cost after iteration 543: 0.19406247457496456\n",
      "Cost after iteration 544: 0.19406247457496456\n",
      "Cost after iteration 545: 0.19406247457496456\n",
      "Cost after iteration 546: 0.19406247457496456\n",
      "Cost after iteration 547: 0.19406247457496456\n",
      "Cost after iteration 548: 0.19406247457496456\n",
      "Cost after iteration 549: 0.19406247457496456\n",
      "Cost after iteration 550: 0.19406247457496456\n",
      "Cost after iteration 551: 0.19406247457496456\n",
      "Cost after iteration 552: 0.19406247457496456\n",
      "Cost after iteration 553: 0.19406247457496456\n",
      "Cost after iteration 554: 0.19406247457496456\n",
      "Cost after iteration 555: 0.19406247457496456\n",
      "Cost after iteration 556: 0.19406247457496456\n",
      "Cost after iteration 557: 0.19406247457496456\n",
      "Cost after iteration 558: 0.19406247457496456\n",
      "Cost after iteration 559: 0.19406247457496456\n",
      "Cost after iteration 560: 0.19406247457496456\n",
      "Cost after iteration 561: 0.19406247457496456\n",
      "Cost after iteration 562: 0.19406247457496456\n",
      "Cost after iteration 563: 0.19406247457496456\n",
      "Cost after iteration 564: 0.19406247457496456\n",
      "Cost after iteration 565: 0.19406247457496456\n",
      "Cost after iteration 566: 0.19406247457496456\n",
      "Cost after iteration 567: 0.19406247457496456\n",
      "Cost after iteration 568: 0.19406247457496456\n",
      "Cost after iteration 569: 0.19406247457496456\n",
      "Cost after iteration 570: 0.19406247457496456\n",
      "Cost after iteration 571: 0.19406247457496456\n",
      "Cost after iteration 572: 0.19406247457496456\n",
      "Cost after iteration 573: 0.19406247457496456\n",
      "Cost after iteration 574: 0.19406247457496456\n",
      "Cost after iteration 575: 0.19406247457496456\n",
      "Cost after iteration 576: 0.19406247457496456\n",
      "Cost after iteration 577: 0.19406247457496456\n",
      "Cost after iteration 578: 0.19406247457496456\n",
      "Cost after iteration 579: 0.19406247457496456\n",
      "Cost after iteration 580: 0.19406247457496456\n",
      "Cost after iteration 581: 0.19406247457496456\n",
      "Cost after iteration 582: 0.19406247457496456\n",
      "Cost after iteration 583: 0.19406247457496456\n",
      "Cost after iteration 584: 0.19406247457496456\n",
      "Cost after iteration 585: 0.19406247457496456\n",
      "Cost after iteration 586: 0.19406247457496456\n",
      "Cost after iteration 587: 0.19406247457496456\n",
      "Cost after iteration 588: 0.19406247457496456\n",
      "Cost after iteration 589: 0.19406247457496456\n",
      "Cost after iteration 590: 0.19406247457496456\n",
      "Cost after iteration 591: 0.19406247457496456\n",
      "Cost after iteration 592: 0.19406247457496456\n",
      "Cost after iteration 593: 0.19406247457496456\n",
      "Cost after iteration 594: 0.19406247457496456\n",
      "Cost after iteration 595: 0.19406247457496456\n",
      "Cost after iteration 596: 0.19406247457496456\n",
      "Cost after iteration 597: 0.19406247457496456\n",
      "Cost after iteration 598: 0.19406247457496456\n",
      "Cost after iteration 599: 0.19406247457496456\n",
      "Cost after iteration 600: 0.19406247457496456\n",
      "Cost after iteration 601: 0.19406247457496456\n",
      "Cost after iteration 602: 0.19406247457496456\n",
      "Cost after iteration 603: 0.19406247457496456\n",
      "Cost after iteration 604: 0.19406247457496456\n",
      "Cost after iteration 605: 0.19406247457496456\n",
      "Cost after iteration 606: 0.19406247457496456\n",
      "Cost after iteration 607: 0.19406247457496456\n",
      "Cost after iteration 608: 0.19406247457496456\n",
      "Cost after iteration 609: 0.19406247457496456\n",
      "Cost after iteration 610: 0.19406247457496456\n",
      "Cost after iteration 611: 0.19406247457496456\n",
      "Cost after iteration 612: 0.19406247457496456\n",
      "Cost after iteration 613: 0.19406247457496456\n",
      "Cost after iteration 614: 0.19406247457496456\n",
      "Cost after iteration 615: 0.19406247457496456\n",
      "Cost after iteration 616: 0.19406247457496456\n",
      "Cost after iteration 617: 0.19406247457496456\n",
      "Cost after iteration 618: 0.19406247457496456\n",
      "Cost after iteration 619: 0.19406247457496456\n",
      "Cost after iteration 620: 0.19406247457496456\n",
      "Cost after iteration 621: 0.19406247457496456\n",
      "Cost after iteration 622: 0.19406247457496456\n",
      "Cost after iteration 623: 0.19406247457496456\n",
      "Cost after iteration 624: 0.19406247457496456\n",
      "Cost after iteration 625: 0.19406247457496456\n",
      "Cost after iteration 626: 0.19406247457496456\n",
      "Cost after iteration 627: 0.19406247457496456\n",
      "Cost after iteration 628: 0.19406247457496456\n",
      "Cost after iteration 629: 0.19406247457496456\n",
      "Cost after iteration 630: 0.19406247457496456\n",
      "Cost after iteration 631: 0.19406247457496456\n",
      "Cost after iteration 632: 0.19406247457496456\n",
      "Cost after iteration 633: 0.19406247457496456\n",
      "Cost after iteration 634: 0.19406247457496456\n",
      "Cost after iteration 635: 0.19406247457496456\n",
      "Cost after iteration 636: 0.19406247457496456\n",
      "Cost after iteration 637: 0.19406247457496456\n",
      "Cost after iteration 638: 0.19406247457496456\n",
      "Cost after iteration 639: 0.19406247457496456\n",
      "Cost after iteration 640: 0.19406247457496456\n",
      "Cost after iteration 641: 0.19406247457496456\n",
      "Cost after iteration 642: 0.19406247457496456\n",
      "Cost after iteration 643: 0.19406247457496456\n",
      "Cost after iteration 644: 0.19406247457496456\n",
      "Cost after iteration 645: 0.19406247457496456\n",
      "Cost after iteration 646: 0.19406247457496456\n",
      "Cost after iteration 647: 0.19406247457496456\n",
      "Cost after iteration 648: 0.19406247457496456\n",
      "Cost after iteration 649: 0.19406247457496456\n",
      "Cost after iteration 650: 0.19406247457496456\n",
      "Cost after iteration 651: 0.19406247457496456\n",
      "Cost after iteration 652: 0.19406247457496456\n",
      "Cost after iteration 653: 0.19406247457496456\n",
      "Cost after iteration 654: 0.19406247457496456\n",
      "Cost after iteration 655: 0.19406247457496456\n",
      "Cost after iteration 656: 0.19406247457496456\n",
      "Cost after iteration 657: 0.19406247457496456\n",
      "Cost after iteration 658: 0.19406247457496456\n",
      "Cost after iteration 659: 0.19406247457496456\n",
      "Cost after iteration 660: 0.19406247457496456\n",
      "Cost after iteration 661: 0.19406247457496456\n",
      "Cost after iteration 662: 0.19406247457496456\n",
      "Cost after iteration 663: 0.19406247457496456\n",
      "Cost after iteration 664: 0.19406247457496456\n",
      "Cost after iteration 665: 0.19406247457496456\n",
      "Cost after iteration 666: 0.19406247457496456\n",
      "Cost after iteration 667: 0.19406247457496456\n",
      "Cost after iteration 668: 0.19406247457496456\n",
      "Cost after iteration 669: 0.19406247457496456\n",
      "Cost after iteration 670: 0.19406247457496456\n",
      "Cost after iteration 671: 0.19406247457496456\n",
      "Cost after iteration 672: 0.19406247457496456\n",
      "Cost after iteration 673: 0.19406247457496456\n",
      "Cost after iteration 674: 0.19406247457496456\n",
      "Cost after iteration 675: 0.19406247457496456\n",
      "Cost after iteration 676: 0.19406247457496456\n",
      "Cost after iteration 677: 0.19406247457496456\n",
      "Cost after iteration 678: 0.19406247457496456\n",
      "Cost after iteration 679: 0.19406247457496456\n",
      "Cost after iteration 680: 0.19406247457496456\n",
      "Cost after iteration 681: 0.19406247457496456\n",
      "Cost after iteration 682: 0.19406247457496456\n",
      "Cost after iteration 683: 0.19406247457496456\n",
      "Cost after iteration 684: 0.19406247457496456\n",
      "Cost after iteration 685: 0.19406247457496456\n",
      "Cost after iteration 686: 0.19406247457496456\n",
      "Cost after iteration 687: 0.19406247457496456\n",
      "Cost after iteration 688: 0.19406247457496456\n",
      "Cost after iteration 689: 0.19406247457496456\n",
      "Cost after iteration 690: 0.19406247457496456\n",
      "Cost after iteration 691: 0.19406247457496456\n",
      "Cost after iteration 692: 0.19406247457496456\n",
      "Cost after iteration 693: 0.19406247457496456\n",
      "Cost after iteration 694: 0.19406247457496456\n",
      "Cost after iteration 695: 0.19406247457496456\n",
      "Cost after iteration 696: 0.19406247457496456\n",
      "Cost after iteration 697: 0.19406247457496456\n",
      "Cost after iteration 698: 0.19406247457496456\n",
      "Cost after iteration 699: 0.19406247457496456\n",
      "Cost after iteration 700: 0.19406247457496456\n",
      "Cost after iteration 701: 0.19406247457496456\n",
      "Cost after iteration 702: 0.19406247457496456\n",
      "Cost after iteration 703: 0.19406247457496456\n",
      "Cost after iteration 704: 0.19406247457496456\n",
      "Cost after iteration 705: 0.19406247457496456\n",
      "Cost after iteration 706: 0.19406247457496456\n",
      "Cost after iteration 707: 0.19406247457496456\n",
      "Cost after iteration 708: 0.19406247457496456\n",
      "Cost after iteration 709: 0.19406247457496456\n",
      "Cost after iteration 710: 0.19406247457496456\n",
      "Cost after iteration 711: 0.19406247457496456\n",
      "Cost after iteration 712: 0.19406247457496456\n",
      "Cost after iteration 713: 0.19406247457496456\n",
      "Cost after iteration 714: 0.19406247457496456\n",
      "Cost after iteration 715: 0.19406247457496456\n",
      "Cost after iteration 716: 0.19406247457496456\n",
      "Cost after iteration 717: 0.19406247457496456\n",
      "Cost after iteration 718: 0.19406247457496456\n",
      "Cost after iteration 719: 0.19406247457496456\n",
      "Cost after iteration 720: 0.19406247457496456\n",
      "Cost after iteration 721: 0.19406247457496456\n",
      "Cost after iteration 722: 0.19406247457496456\n",
      "Cost after iteration 723: 0.19406247457496456\n",
      "Cost after iteration 724: 0.19406247457496456\n",
      "Cost after iteration 725: 0.19406247457496456\n",
      "Cost after iteration 726: 0.19406247457496456\n",
      "Cost after iteration 727: 0.19406247457496456\n",
      "Cost after iteration 728: 0.19406247457496456\n",
      "Cost after iteration 729: 0.19406247457496456\n",
      "Cost after iteration 730: 0.19406247457496456\n",
      "Cost after iteration 731: 0.19406247457496456\n",
      "Cost after iteration 732: 0.19406247457496456\n",
      "Cost after iteration 733: 0.19406247457496456\n",
      "Cost after iteration 734: 0.19406247457496456\n",
      "Cost after iteration 735: 0.19406247457496456\n",
      "Cost after iteration 736: 0.19406247457496456\n",
      "Cost after iteration 737: 0.19406247457496456\n",
      "Cost after iteration 738: 0.19406247457496456\n",
      "Cost after iteration 739: 0.19406247457496456\n",
      "Cost after iteration 740: 0.19406247457496456\n",
      "Cost after iteration 741: 0.19406247457496456\n",
      "Cost after iteration 742: 0.19406247457496456\n",
      "Cost after iteration 743: 0.19406247457496456\n",
      "Cost after iteration 744: 0.19406247457496456\n",
      "Cost after iteration 745: 0.19406247457496456\n",
      "Cost after iteration 746: 0.19406247457496456\n",
      "Cost after iteration 747: 0.19406247457496456\n",
      "Cost after iteration 748: 0.19406247457496456\n",
      "Cost after iteration 749: 0.19406247457496456\n",
      "Cost after iteration 750: 0.19406247457496456\n",
      "Cost after iteration 751: 0.19406247457496456\n",
      "Cost after iteration 752: 0.19406247457496456\n",
      "Cost after iteration 753: 0.19406247457496456\n",
      "Cost after iteration 754: 0.19406247457496456\n",
      "Cost after iteration 755: 0.19406247457496456\n",
      "Cost after iteration 756: 0.19406247457496456\n",
      "Cost after iteration 757: 0.19406247457496456\n",
      "Cost after iteration 758: 0.19406247457496456\n",
      "Cost after iteration 759: 0.19406247457496456\n",
      "Cost after iteration 760: 0.19406247457496456\n",
      "Cost after iteration 761: 0.19406247457496456\n",
      "Cost after iteration 762: 0.19406247457496456\n",
      "Cost after iteration 763: 0.19406247457496456\n",
      "Cost after iteration 764: 0.19406247457496456\n",
      "Cost after iteration 765: 0.19406247457496456\n",
      "Cost after iteration 766: 0.19406247457496456\n",
      "Cost after iteration 767: 0.19406247457496456\n",
      "Cost after iteration 768: 0.19406247457496456\n",
      "Cost after iteration 769: 0.19406247457496456\n",
      "Cost after iteration 770: 0.19406247457496456\n",
      "Cost after iteration 771: 0.19406247457496456\n",
      "Cost after iteration 772: 0.19406247457496456\n",
      "Cost after iteration 773: 0.19406247457496456\n",
      "Cost after iteration 774: 0.19406247457496456\n",
      "Cost after iteration 775: 0.19406247457496456\n",
      "Cost after iteration 776: 0.19406247457496456\n",
      "Cost after iteration 777: 0.19406247457496456\n",
      "Cost after iteration 778: 0.19406247457496456\n",
      "Cost after iteration 779: 0.19406247457496456\n",
      "Cost after iteration 780: 0.19406247457496456\n",
      "Cost after iteration 781: 0.19406247457496456\n",
      "Cost after iteration 782: 0.19406247457496456\n",
      "Cost after iteration 783: 0.19406247457496456\n",
      "Cost after iteration 784: 0.19406247457496456\n",
      "Cost after iteration 785: 0.19406247457496456\n",
      "Cost after iteration 786: 0.19406247457496456\n",
      "Cost after iteration 787: 0.19406247457496456\n",
      "Cost after iteration 788: 0.19406247457496456\n",
      "Cost after iteration 789: 0.19406247457496456\n",
      "Cost after iteration 790: 0.19406247457496456\n",
      "Cost after iteration 791: 0.19406247457496456\n",
      "Cost after iteration 792: 0.19406247457496456\n",
      "Cost after iteration 793: 0.19406247457496456\n",
      "Cost after iteration 794: 0.19406247457496456\n",
      "Cost after iteration 795: 0.19406247457496456\n",
      "Cost after iteration 796: 0.19406247457496456\n",
      "Cost after iteration 797: 0.19406247457496456\n",
      "Cost after iteration 798: 0.19406247457496456\n",
      "Cost after iteration 799: 0.19406247457496456\n",
      "Cost after iteration 800: 0.19406247457496456\n",
      "Cost after iteration 801: 0.19406247457496456\n",
      "Cost after iteration 802: 0.19406247457496456\n",
      "Cost after iteration 803: 0.19406247457496456\n",
      "Cost after iteration 804: 0.19406247457496456\n",
      "Cost after iteration 805: 0.19406247457496456\n",
      "Cost after iteration 806: 0.19406247457496456\n",
      "Cost after iteration 807: 0.19406247457496456\n",
      "Cost after iteration 808: 0.19406247457496456\n",
      "Cost after iteration 809: 0.19406247457496456\n",
      "Cost after iteration 810: 0.19406247457496456\n",
      "Cost after iteration 811: 0.19406247457496456\n",
      "Cost after iteration 812: 0.19406247457496456\n",
      "Cost after iteration 813: 0.19406247457496456\n",
      "Cost after iteration 814: 0.19406247457496456\n",
      "Cost after iteration 815: 0.19406247457496456\n",
      "Cost after iteration 816: 0.19406247457496456\n",
      "Cost after iteration 817: 0.19406247457496456\n",
      "Cost after iteration 818: 0.19406247457496456\n",
      "Cost after iteration 819: 0.19406247457496456\n",
      "Cost after iteration 820: 0.19406247457496456\n",
      "Cost after iteration 821: 0.19406247457496456\n",
      "Cost after iteration 822: 0.19406247457496456\n",
      "Cost after iteration 823: 0.19406247457496456\n",
      "Cost after iteration 824: 0.19406247457496456\n",
      "Cost after iteration 825: 0.19406247457496456\n",
      "Cost after iteration 826: 0.19406247457496456\n",
      "Cost after iteration 827: 0.19406247457496456\n",
      "Cost after iteration 828: 0.19406247457496456\n",
      "Cost after iteration 829: 0.19406247457496456\n",
      "Cost after iteration 830: 0.19406247457496456\n",
      "Cost after iteration 831: 0.19406247457496456\n",
      "Cost after iteration 832: 0.19406247457496456\n",
      "Cost after iteration 833: 0.19406247457496456\n",
      "Cost after iteration 834: 0.19406247457496456\n",
      "Cost after iteration 835: 0.19406247457496456\n",
      "Cost after iteration 836: 0.19406247457496456\n",
      "Cost after iteration 837: 0.19406247457496456\n",
      "Cost after iteration 838: 0.19406247457496456\n",
      "Cost after iteration 839: 0.19406247457496456\n",
      "Cost after iteration 840: 0.19406247457496456\n",
      "Cost after iteration 841: 0.19406247457496456\n",
      "Cost after iteration 842: 0.19406247457496456\n",
      "Cost after iteration 843: 0.19406247457496456\n",
      "Cost after iteration 844: 0.19406247457496456\n",
      "Cost after iteration 845: 0.19406247457496456\n",
      "Cost after iteration 846: 0.19406247457496456\n",
      "Cost after iteration 847: 0.19406247457496456\n",
      "Cost after iteration 848: 0.19406247457496456\n",
      "Cost after iteration 849: 0.19406247457496456\n",
      "Cost after iteration 850: 0.19406247457496456\n",
      "Cost after iteration 851: 0.19406247457496456\n",
      "Cost after iteration 852: 0.19406247457496456\n",
      "Cost after iteration 853: 0.19406247457496456\n",
      "Cost after iteration 854: 0.19406247457496456\n",
      "Cost after iteration 855: 0.19406247457496456\n",
      "Cost after iteration 856: 0.19406247457496456\n",
      "Cost after iteration 857: 0.19406247457496456\n",
      "Cost after iteration 858: 0.19406247457496456\n",
      "Cost after iteration 859: 0.19406247457496456\n",
      "Cost after iteration 860: 0.19406247457496456\n",
      "Cost after iteration 861: 0.19406247457496456\n",
      "Cost after iteration 862: 0.19406247457496456\n",
      "Cost after iteration 863: 0.19406247457496456\n",
      "Cost after iteration 864: 0.19406247457496456\n",
      "Cost after iteration 865: 0.19406247457496456\n",
      "Cost after iteration 866: 0.19406247457496456\n",
      "Cost after iteration 867: 0.19406247457496456\n",
      "Cost after iteration 868: 0.19406247457496456\n",
      "Cost after iteration 869: 0.19406247457496456\n",
      "Cost after iteration 870: 0.19406247457496456\n",
      "Cost after iteration 871: 0.19406247457496456\n",
      "Cost after iteration 872: 0.19406247457496456\n",
      "Cost after iteration 873: 0.19406247457496456\n",
      "Cost after iteration 874: 0.19406247457496456\n",
      "Cost after iteration 875: 0.19406247457496456\n",
      "Cost after iteration 876: 0.19406247457496456\n",
      "Cost after iteration 877: 0.19406247457496456\n",
      "Cost after iteration 878: 0.19406247457496456\n",
      "Cost after iteration 879: 0.19406247457496456\n",
      "Cost after iteration 880: 0.19406247457496456\n",
      "Cost after iteration 881: 0.19406247457496456\n",
      "Cost after iteration 882: 0.19406247457496456\n",
      "Cost after iteration 883: 0.19406247457496456\n",
      "Cost after iteration 884: 0.19406247457496456\n",
      "Cost after iteration 885: 0.19406247457496456\n",
      "Cost after iteration 886: 0.19406247457496456\n",
      "Cost after iteration 887: 0.19406247457496456\n",
      "Cost after iteration 888: 0.19406247457496456\n",
      "Cost after iteration 889: 0.19406247457496456\n",
      "Cost after iteration 890: 0.19406247457496456\n",
      "Cost after iteration 891: 0.19406247457496456\n",
      "Cost after iteration 892: 0.19406247457496456\n",
      "Cost after iteration 893: 0.19406247457496456\n",
      "Cost after iteration 894: 0.19406247457496456\n",
      "Cost after iteration 895: 0.19406247457496456\n",
      "Cost after iteration 896: 0.19406247457496456\n",
      "Cost after iteration 897: 0.19406247457496456\n",
      "Cost after iteration 898: 0.19406247457496456\n",
      "Cost after iteration 899: 0.19406247457496456\n",
      "Cost after iteration 900: 0.19406247457496456\n",
      "Cost after iteration 901: 0.19406247457496456\n",
      "Cost after iteration 902: 0.19406247457496456\n",
      "Cost after iteration 903: 0.19406247457496456\n",
      "Cost after iteration 904: 0.19406247457496456\n",
      "Cost after iteration 905: 0.19406247457496456\n",
      "Cost after iteration 906: 0.19406247457496456\n",
      "Cost after iteration 907: 0.19406247457496456\n",
      "Cost after iteration 908: 0.19406247457496456\n",
      "Cost after iteration 909: 0.19406247457496456\n",
      "Cost after iteration 910: 0.19406247457496456\n",
      "Cost after iteration 911: 0.19406247457496456\n",
      "Cost after iteration 912: 0.19406247457496456\n",
      "Cost after iteration 913: 0.19406247457496456\n",
      "Cost after iteration 914: 0.19406247457496456\n",
      "Cost after iteration 915: 0.19406247457496456\n",
      "Cost after iteration 916: 0.19406247457496456\n",
      "Cost after iteration 917: 0.19406247457496456\n",
      "Cost after iteration 918: 0.19406247457496456\n",
      "Cost after iteration 919: 0.19406247457496456\n",
      "Cost after iteration 920: 0.19406247457496456\n",
      "Cost after iteration 921: 0.19406247457496456\n",
      "Cost after iteration 922: 0.19406247457496456\n",
      "Cost after iteration 923: 0.19406247457496456\n",
      "Cost after iteration 924: 0.19406247457496456\n",
      "Cost after iteration 925: 0.19406247457496456\n",
      "Cost after iteration 926: 0.19406247457496456\n",
      "Cost after iteration 927: 0.19406247457496456\n",
      "Cost after iteration 928: 0.19406247457496456\n",
      "Cost after iteration 929: 0.19406247457496456\n",
      "Cost after iteration 930: 0.19406247457496456\n",
      "Cost after iteration 931: 0.19406247457496456\n",
      "Cost after iteration 932: 0.19406247457496456\n",
      "Cost after iteration 933: 0.19406247457496456\n",
      "Cost after iteration 934: 0.19406247457496456\n",
      "Cost after iteration 935: 0.19406247457496456\n",
      "Cost after iteration 936: 0.19406247457496456\n",
      "Cost after iteration 937: 0.19406247457496456\n",
      "Cost after iteration 938: 0.19406247457496456\n",
      "Cost after iteration 939: 0.19406247457496456\n",
      "Cost after iteration 940: 0.19406247457496456\n",
      "Cost after iteration 941: 0.19406247457496456\n",
      "Cost after iteration 942: 0.19406247457496456\n",
      "Cost after iteration 943: 0.19406247457496456\n",
      "Cost after iteration 944: 0.19406247457496456\n",
      "Cost after iteration 945: 0.19406247457496456\n",
      "Cost after iteration 946: 0.19406247457496456\n",
      "Cost after iteration 947: 0.19406247457496456\n",
      "Cost after iteration 948: 0.19406247457496456\n",
      "Cost after iteration 949: 0.19406247457496456\n",
      "Cost after iteration 950: 0.19406247457496456\n",
      "Cost after iteration 951: 0.19406247457496456\n",
      "Cost after iteration 952: 0.19406247457496456\n",
      "Cost after iteration 953: 0.19406247457496456\n",
      "Cost after iteration 954: 0.19406247457496456\n",
      "Cost after iteration 955: 0.19406247457496456\n",
      "Cost after iteration 956: 0.19406247457496456\n",
      "Cost after iteration 957: 0.19406247457496456\n",
      "Cost after iteration 958: 0.19406247457496456\n",
      "Cost after iteration 959: 0.19406247457496456\n",
      "Cost after iteration 960: 0.19406247457496456\n",
      "Cost after iteration 961: 0.19406247457496456\n",
      "Cost after iteration 962: 0.19406247457496456\n",
      "Cost after iteration 963: 0.19406247457496456\n",
      "Cost after iteration 964: 0.19406247457496456\n",
      "Cost after iteration 965: 0.19406247457496456\n",
      "Cost after iteration 966: 0.19406247457496456\n",
      "Cost after iteration 967: 0.19406247457496456\n",
      "Cost after iteration 968: 0.19406247457496456\n",
      "Cost after iteration 969: 0.19406247457496456\n",
      "Cost after iteration 970: 0.19406247457496456\n",
      "Cost after iteration 971: 0.19406247457496456\n",
      "Cost after iteration 972: 0.19406247457496456\n",
      "Cost after iteration 973: 0.19406247457496456\n",
      "Cost after iteration 974: 0.19406247457496456\n",
      "Cost after iteration 975: 0.19406247457496456\n",
      "Cost after iteration 976: 0.19406247457496456\n",
      "Cost after iteration 977: 0.19406247457496456\n",
      "Cost after iteration 978: 0.19406247457496456\n",
      "Cost after iteration 979: 0.19406247457496456\n",
      "Cost after iteration 980: 0.19406247457496456\n",
      "Cost after iteration 981: 0.19406247457496456\n",
      "Cost after iteration 982: 0.19406247457496456\n",
      "Cost after iteration 983: 0.19406247457496456\n",
      "Cost after iteration 984: 0.19406247457496456\n",
      "Cost after iteration 985: 0.19406247457496456\n",
      "Cost after iteration 986: 0.19406247457496456\n",
      "Cost after iteration 987: 0.19406247457496456\n",
      "Cost after iteration 988: 0.19406247457496456\n",
      "Cost after iteration 989: 0.19406247457496456\n",
      "Cost after iteration 990: 0.19406247457496456\n",
      "Cost after iteration 991: 0.19406247457496456\n",
      "Cost after iteration 992: 0.19406247457496456\n",
      "Cost after iteration 993: 0.19406247457496456\n",
      "Cost after iteration 994: 0.19406247457496456\n",
      "Cost after iteration 995: 0.19406247457496456\n",
      "Cost after iteration 996: 0.19406247457496456\n",
      "Cost after iteration 997: 0.19406247457496456\n",
      "Cost after iteration 998: 0.19406247457496456\n",
      "Cost after iteration 999: 0.19406247457496456\n",
      "Gradient descent result: m_min, b_min = 0.7822244248616068, -3.1441516057384436e-16\n"
     ]
    }
   ],
   "source": [
    "m_initial = 0; b_initial = 0; num_iterations = 1000; learning_rate = 1.2\n",
    "m_gd, b_gd = gradient_descent(dEdm, dEdb, m_initial, b_initial,\n",
    "                              X_norm, Y_norm, learning_rate, num_iterations, print_cost=True)\n",
    "\n",
    "print(f\"Gradient descent result: m_min, b_min = {m_gd}, {b_gd}\")"
   ]
  },
  {
   "cell_type": "markdown",
   "metadata": {
    "id": "GTMtJfMH6rP_"
   },
   "source": [
    "Remember, that the initial datasets were normalized. To make the predictions, you need to normalize `X_pred` array, calculate `Y_pred` with the linear regression coefficients `m_gd`, `b_gd` and then **denormalize** the result (perform the reverse process of normalization):"
   ]
  },
  {
   "cell_type": "code",
   "execution_count": 144,
   "metadata": {
    "colab": {
     "base_uri": "https://localhost:8080/"
    },
    "id": "MHEZXA4A6rP_",
    "outputId": "349508db-ec42-4646-8e39-fc5322a6d15d",
    "tags": []
   },
   "outputs": [
    {
     "name": "stdout",
     "output_type": "stream",
     "text": [
      "TV marketing expenses:\n",
      "[ 50 120 280]\n",
      "Predictions of sales using Scikit_Learn linear regression:\n",
      "[[ 9.40942557 12.7369904  20.34285287]]\n",
      "Predictions of sales using Gradient Descent:\n",
      "[ 9.40942557 12.7369904  20.34285287]\n"
     ]
    }
   ],
   "source": [
    "X_pred = np.array([50, 120, 280])\n",
    "# Use the same mean and standard deviation of the original training array X\n",
    "X_pred_norm = (X_pred - np.mean(X))/np.std(X)\n",
    "Y_pred_gd_norm = m_gd * X_pred_norm + b_gd\n",
    "# Use the same mean and standard deviation of the original training array Y\n",
    "Y_pred_gd = Y_pred_gd_norm * np.std(Y) + np.mean(Y)\n",
    "\n",
    "print(f\"TV marketing expenses:\\n{X_pred}\")\n",
    "print(f\"Predictions of sales using Scikit_Learn linear regression:\\n{Y_pred_sklearn.T}\")\n",
    "print(f\"Predictions of sales using Gradient Descent:\\n{Y_pred_gd}\")"
   ]
  },
  {
   "cell_type": "code",
   "execution_count": 145,
   "metadata": {
    "colab": {
     "base_uri": "https://localhost:8080/"
    },
    "id": "R_dit8c6jNAK",
    "outputId": "46294d86-0c7a-4e36-9c28-39e7f963eddd"
   },
   "outputs": [
    {
     "data": {
      "text/plain": [
       "['gd_params.pkl']"
      ]
     },
     "execution_count": 145,
     "metadata": {},
     "output_type": "execute_result"
    }
   ],
   "source": [
    "import joblib\n",
    "\n",
    "# Save the scikit-learn models by pickling it\n",
    "joblib.dump(lr_model, 'lr_model.pkl')\n",
    "joblib.dump(dt_model, 'dt_model.pkl')\n",
    "joblib.dump(rf_model, 'rf_model.pkl')\n",
    "\n",
    "# For the Gradient Descent model, you need to save the coefficients (m_gd, b_gd)\n",
    "# and potentially the mean/std of X and Y if you used normalization\n",
    "# You can save these values in a separate file, e.g., 'gd_params.pkl'\n",
    "# Example:\n",
    "gd_params = {'m_gd': m_gd, 'b_gd': b_gd, 'X_mean': np.mean(X), 'X_std': np.std(X),\n",
    "             'Y_mean': np.mean(Y), 'Y_std': np.std(Y)}\n",
    "joblib.dump(gd_params, 'gd_params.pkl')"
   ]
  },
  {
   "cell_type": "code",
   "execution_count": 146,
   "metadata": {
    "colab": {
     "base_uri": "https://localhost:8080/"
    },
    "collapsed": true,
    "id": "4HxMVMxeZY_J",
    "outputId": "6fe9977f-a198-4981-f7ff-8749773cb6b8"
   },
   "outputs": [
    {
     "name": "stdout",
     "output_type": "stream",
     "text": [
      "Requirement already satisfied: fastapi in /usr/local/lib/python3.10/dist-packages (0.115.4)\n",
      "Requirement already satisfied: starlette<0.42.0,>=0.40.0 in /usr/local/lib/python3.10/dist-packages (from fastapi) (0.41.2)\n",
      "Requirement already satisfied: pydantic!=1.8,!=1.8.1,!=2.0.0,!=2.0.1,!=2.1.0,<3.0.0,>=1.7.4 in /usr/local/lib/python3.10/dist-packages (from fastapi) (2.9.2)\n",
      "Requirement already satisfied: typing-extensions>=4.8.0 in /usr/local/lib/python3.10/dist-packages (from fastapi) (4.12.2)\n",
      "Requirement already satisfied: annotated-types>=0.6.0 in /usr/local/lib/python3.10/dist-packages (from pydantic!=1.8,!=1.8.1,!=2.0.0,!=2.0.1,!=2.1.0,<3.0.0,>=1.7.4->fastapi) (0.7.0)\n",
      "Requirement already satisfied: pydantic-core==2.23.4 in /usr/local/lib/python3.10/dist-packages (from pydantic!=1.8,!=1.8.1,!=2.0.0,!=2.0.1,!=2.1.0,<3.0.0,>=1.7.4->fastapi) (2.23.4)\n",
      "Requirement already satisfied: anyio<5,>=3.4.0 in /usr/local/lib/python3.10/dist-packages (from starlette<0.42.0,>=0.40.0->fastapi) (3.7.1)\n",
      "Requirement already satisfied: idna>=2.8 in /usr/local/lib/python3.10/dist-packages (from anyio<5,>=3.4.0->starlette<0.42.0,>=0.40.0->fastapi) (3.10)\n",
      "Requirement already satisfied: sniffio>=1.1 in /usr/local/lib/python3.10/dist-packages (from anyio<5,>=3.4.0->starlette<0.42.0,>=0.40.0->fastapi) (1.3.1)\n",
      "Requirement already satisfied: exceptiongroup in /usr/local/lib/python3.10/dist-packages (from anyio<5,>=3.4.0->starlette<0.42.0,>=0.40.0->fastapi) (1.2.2)\n",
      "Requirement already satisfied: uvicorn in /usr/local/lib/python3.10/dist-packages (0.32.0)\n",
      "Requirement already satisfied: click>=7.0 in /usr/local/lib/python3.10/dist-packages (from uvicorn) (8.1.7)\n",
      "Requirement already satisfied: h11>=0.8 in /usr/local/lib/python3.10/dist-packages (from uvicorn) (0.14.0)\n",
      "Requirement already satisfied: typing-extensions>=4.0 in /usr/local/lib/python3.10/dist-packages (from uvicorn) (4.12.2)\n"
     ]
    }
   ],
   "source": [
    "!pip install fastapi\n",
    "!pip install uvicorn"
   ]
  },
  {
   "cell_type": "code",
   "execution_count": 147,
   "metadata": {
    "id": "CE6ZrYBpZJpR"
   },
   "outputs": [],
   "source": [
    "#What imports do we need for Fast api\n",
    "from fastapi import FastAPI\n",
    "from pydantic import BaseModel\n",
    "import uvicorn"
   ]
  },
  {
   "cell_type": "code",
   "execution_count": 149,
   "metadata": {
    "collapsed": true,
    "id": "x9GpYfrFe1Qk"
   },
   "outputs": [],
   "source": [
    "from fastapi import FastAPI, HTTPException, Query\n",
    "from pydantic import BaseModel\n",
    "from typing import Union, Type, Literal\n",
    "import joblib\n",
    "import uvicorn\n",
    "import numpy as np\n",
    "from sklearn.linear_model import LinearRegression\n",
    "from sklearn.ensemble import RandomForestRegressor\n",
    "from sklearn.tree import DecisionTreeRegressor\n",
    "\n",
    "app = FastAPI()\n",
    "\n",
    "# Pydantic model for input data\n",
    "class PredictionInput(BaseModel):\n",
    "    modelName: Literal[\"Linear Regression\", \"Decision Tree\", \"Random Forest\", \"Gradient Descent\"]\n",
    "    tv: float\n",
    "\n",
    "# Supported model types\n",
    "SupportedModel = Union[Type[LinearRegression], Type[DecisionTreeRegressor], Type[RandomForestRegressor]]\n",
    "\n",
    "# Load the models of scikit learn\n",
    "lr_model = joblib.load('lr_model.pkl')\n",
    "dt_model = joblib.load('dt_model.pkl')\n",
    "rf_model = joblib.load('rf_model.pkl')\n",
    "\n",
    "# Gradient Descent parameters (m_gd, b_gd, X, Y are available)\n",
    "# Load Gradient Descent parameters\n",
    "gd_params = joblib.load('gd_params.pkl')\n",
    "m_gd = gd_params['m_gd']\n",
    "b_gd = gd_params['b_gd']\n",
    "X_mean = gd_params['X_mean']\n",
    "X_std = gd_params['X_std']\n",
    "Y_mean = gd_params['Y_mean']\n",
    "Y_std = gd_params['Y_std']\n",
    "\n",
    "# Function to make predictions\n",
    "def predict_fast_api(modelName: str, tv: float):\n",
    "    # Add constraints for tv (0 <= tv <= 500)\n",
    "    if not (0 <= tv <= 1000):\n",
    "        raise HTTPException(status_code=400, detail=\"TV marketing budget must be between 0 and 1000\")\n",
    "\n",
    "    # Get the model based on the modelName\n",
    "    if modelName == \"Linear Regression\":\n",
    "        model = lr_model\n",
    "    elif modelName == \"Decision Tree\":\n",
    "        model = dt_model\n",
    "    elif modelName == \"Random Forest\":\n",
    "        model = rf_model\n",
    "    elif modelName == \"Gradient Descent\":\n",
    "        # normalize input\n",
    "        tv_norm = (tv - X_mean) / X_std\n",
    "        tv_sales_norm = m_gd * tv_norm + b_gd\n",
    "        # denormalize output\n",
    "        tv_sales = tv_sales_norm * Y_std + Y_mean\n",
    "        return tv_sales\n",
    "    else:\n",
    "        allowed_models = [\"Linear Regression\", \"Decision Tree\", \"Random Forest\", \"Gradient Descent\"]\n",
    "        raise HTTPException(status_code=400, detail=f\"Invalid model name. Allowed models are: {', '.join(allowed_models)}\")\n",
    "\n",
    "    # Reshape tv for scikit-learn models\n",
    "    tv_input = np.array([[tv]])\n",
    "    tv_sales = model.predict(tv_input)[0][0] if isinstance(model, LinearRegression) else model.predict(tv_input)[0]\n",
    "\n",
    "    return tv_sales\n",
    "\n",
    "@app.post(\"/predict\")\n",
    "async def predict_sales(input_data: PredictionInput):\n",
    "    \"\"\"\n",
    "    Predicts tv sales based on TV marketing budget and model name.\n",
    "    \"\"\"\n",
    "    try:\n",
    "        tv_sales_prediction = predict_fast_api(input_data.modelName, input_data.tv)\n",
    "    except HTTPException as e:\n",
    "        return {\"error\": e.detail}\n",
    "\n",
    "    return {\"tv_sales\": tv_sales_prediction}\n",
    "\n",
    "# # Run the FastAPI app\n",
    "# if __name__ == \"__main__\":\n",
    "#     uvicorn.run(app, host=\"0.0.0.0\", port=8000)"
   ]
  },
  {
   "cell_type": "markdown",
   "metadata": {
    "id": "epAzrEB46rP_"
   },
   "source": [
    "You should have gotten similar results as in the previous sections.\n",
    "\n",
    "Well done! Now you know how gradient descent algorithm can be applied to train a real model. Re-producing results manually for a simple case should give you extra confidence that you understand what happends under the hood of commonly used functions."
   ]
  }
 ],
 "metadata": {
  "colab": {
   "collapsed_sections": [
    "htARQfsB6rPZ"
   ],
   "provenance": []
  },
  "coursera": {
   "schema_names": [
    "AI4MC1-1"
   ]
  },
  "grader_version": "1",
  "kernelspec": {
   "display_name": "Python 3",
   "name": "python3"
  },
  "language_info": {
   "codemirror_mode": {
    "name": "ipython",
    "version": 3
   },
   "file_extension": ".py",
   "mimetype": "text/x-python",
   "name": "python",
   "nbconvert_exporter": "python",
   "pygments_lexer": "ipython3",
   "version": "3.10.12"
  },
  "toc": {
   "base_numbering": 1,
   "nav_menu": {},
   "number_sections": true,
   "sideBar": true,
   "skip_h1_title": false,
   "title_cell": "Table of Contents",
   "title_sidebar": "Contents",
   "toc_cell": false,
   "toc_position": {},
   "toc_section_display": true,
   "toc_window_display": false
  },
  "vscode": {
   "interpreter": {
    "hash": "478841ab876a4250505273c8a697bbc1b6b194054b009c227dc606f17fb56272"
   }
  }
 },
 "nbformat": 4,
 "nbformat_minor": 0
}
